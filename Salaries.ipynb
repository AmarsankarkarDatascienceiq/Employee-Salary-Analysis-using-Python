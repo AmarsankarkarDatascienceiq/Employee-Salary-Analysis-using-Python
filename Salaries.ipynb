{
  "nbformat": 4,
  "nbformat_minor": 0,
  "metadata": {
    "colab": {
      "provenance": [],
      "mount_file_id": "1XczcY1jGft8VpLJG4O6AdWCta7GCZlrs",
      "authorship_tag": "ABX9TyMVVHxEhVCdumQIeXR5FwkI",
      "include_colab_link": true
    },
    "kernelspec": {
      "name": "python3",
      "display_name": "Python 3"
    },
    "language_info": {
      "name": "python"
    }
  },
  "cells": [
    {
      "cell_type": "markdown",
      "metadata": {
        "id": "view-in-github",
        "colab_type": "text"
      },
      "source": [
        "<a href=\"https://colab.research.google.com/github/AmarsankarkarDatascienceiq/Employee-Salary-Analysis-using-Python/blob/main/Salaries.ipynb\" target=\"_parent\"><img src=\"https://colab.research.google.com/assets/colab-badge.svg\" alt=\"Open In Colab\"/></a>"
      ]
    },
    {
      "cell_type": "code",
      "execution_count": null,
      "metadata": {
        "id": "x28kGif3R1Tu"
      },
      "outputs": [],
      "source": [
        "import pandas as pd"
      ]
    },
    {
      "cell_type": "code",
      "source": [
        "data = pd.read_csv('/content/drive/MyDrive/Datasets and Projects/Salaries Dataset/Salaries.csv')"
      ],
      "metadata": {
        "colab": {
          "base_uri": "https://localhost:8080/"
        },
        "id": "xvqFVtXAZ47s",
        "outputId": "2dbbf05a-d4c0-4b96-b929-e11029376acd"
      },
      "execution_count": null,
      "outputs": [
        {
          "output_type": "stream",
          "name": "stderr",
          "text": [
            "/usr/local/lib/python3.8/dist-packages/IPython/core/interactiveshell.py:3326: DtypeWarning: Columns (3,4,5,6,12) have mixed types.Specify dtype option on import or set low_memory=False.\n",
            "  exec(code_obj, self.user_global_ns, self.user_ns)\n"
          ]
        }
      ]
    },
    {
      "cell_type": "code",
      "source": [
        "#Display top 10 rows of the dataset\n",
        "data.head(10)"
      ],
      "metadata": {
        "colab": {
          "base_uri": "https://localhost:8080/",
          "height": 650
        },
        "id": "ByrGGhpzZ5C6",
        "outputId": "662ee743-beb9-4457-d8ae-0f5af0a53778"
      },
      "execution_count": null,
      "outputs": [
        {
          "output_type": "execute_result",
          "data": {
            "text/plain": [
              "   Id        EmployeeName                                        JobTitle  \\\n",
              "0   1      NATHANIEL FORD  GENERAL MANAGER-METROPOLITAN TRANSIT AUTHORITY   \n",
              "1   2        GARY JIMENEZ                 CAPTAIN III (POLICE DEPARTMENT)   \n",
              "2   3      ALBERT PARDINI                 CAPTAIN III (POLICE DEPARTMENT)   \n",
              "3   4   CHRISTOPHER CHONG            WIRE ROPE CABLE MAINTENANCE MECHANIC   \n",
              "4   5     PATRICK GARDNER    DEPUTY CHIEF OF DEPARTMENT,(FIRE DEPARTMENT)   \n",
              "5   6      DAVID SULLIVAN                       ASSISTANT DEPUTY CHIEF II   \n",
              "6   7           ALSON LEE              BATTALION CHIEF, (FIRE DEPARTMENT)   \n",
              "7   8       DAVID KUSHNER                  DEPUTY DIRECTOR OF INVESTMENTS   \n",
              "8   9      MICHAEL MORRIS              BATTALION CHIEF, (FIRE DEPARTMENT)   \n",
              "9  10  JOANNE HAYES-WHITE          CHIEF OF DEPARTMENT, (FIRE DEPARTMENT)   \n",
              "\n",
              "     BasePay OvertimePay   OtherPay Benefits   TotalPay  TotalPayBenefits  \\\n",
              "0  167411.18         0.0  400184.25      NaN  567595.43         567595.43   \n",
              "1  155966.02   245131.88  137811.38      NaN  538909.28         538909.28   \n",
              "2  212739.13   106088.18    16452.6      NaN  335279.91         335279.91   \n",
              "3    77916.0    56120.71   198306.9      NaN  332343.61         332343.61   \n",
              "4   134401.6      9737.0  182234.59      NaN  326373.19         326373.19   \n",
              "5   118602.0      8601.0  189082.74      NaN  316285.74         316285.74   \n",
              "6   92492.01     89062.9  134426.14      NaN  315981.05         315981.05   \n",
              "7  256576.96         0.0    51322.5      NaN  307899.46         307899.46   \n",
              "8  176932.64    86362.68   40132.23      NaN  303427.55         303427.55   \n",
              "9   285262.0         0.0   17115.73      NaN  302377.73         302377.73   \n",
              "\n",
              "   Year  Notes         Agency Status  \n",
              "0  2011    NaN  San Francisco    NaN  \n",
              "1  2011    NaN  San Francisco    NaN  \n",
              "2  2011    NaN  San Francisco    NaN  \n",
              "3  2011    NaN  San Francisco    NaN  \n",
              "4  2011    NaN  San Francisco    NaN  \n",
              "5  2011    NaN  San Francisco    NaN  \n",
              "6  2011    NaN  San Francisco    NaN  \n",
              "7  2011    NaN  San Francisco    NaN  \n",
              "8  2011    NaN  San Francisco    NaN  \n",
              "9  2011    NaN  San Francisco    NaN  "
            ],
            "text/html": [
              "\n",
              "  <div id=\"df-6e48bbe7-36a1-448e-bc75-88d65c23533c\">\n",
              "    <div class=\"colab-df-container\">\n",
              "      <div>\n",
              "<style scoped>\n",
              "    .dataframe tbody tr th:only-of-type {\n",
              "        vertical-align: middle;\n",
              "    }\n",
              "\n",
              "    .dataframe tbody tr th {\n",
              "        vertical-align: top;\n",
              "    }\n",
              "\n",
              "    .dataframe thead th {\n",
              "        text-align: right;\n",
              "    }\n",
              "</style>\n",
              "<table border=\"1\" class=\"dataframe\">\n",
              "  <thead>\n",
              "    <tr style=\"text-align: right;\">\n",
              "      <th></th>\n",
              "      <th>Id</th>\n",
              "      <th>EmployeeName</th>\n",
              "      <th>JobTitle</th>\n",
              "      <th>BasePay</th>\n",
              "      <th>OvertimePay</th>\n",
              "      <th>OtherPay</th>\n",
              "      <th>Benefits</th>\n",
              "      <th>TotalPay</th>\n",
              "      <th>TotalPayBenefits</th>\n",
              "      <th>Year</th>\n",
              "      <th>Notes</th>\n",
              "      <th>Agency</th>\n",
              "      <th>Status</th>\n",
              "    </tr>\n",
              "  </thead>\n",
              "  <tbody>\n",
              "    <tr>\n",
              "      <th>0</th>\n",
              "      <td>1</td>\n",
              "      <td>NATHANIEL FORD</td>\n",
              "      <td>GENERAL MANAGER-METROPOLITAN TRANSIT AUTHORITY</td>\n",
              "      <td>167411.18</td>\n",
              "      <td>0.0</td>\n",
              "      <td>400184.25</td>\n",
              "      <td>NaN</td>\n",
              "      <td>567595.43</td>\n",
              "      <td>567595.43</td>\n",
              "      <td>2011</td>\n",
              "      <td>NaN</td>\n",
              "      <td>San Francisco</td>\n",
              "      <td>NaN</td>\n",
              "    </tr>\n",
              "    <tr>\n",
              "      <th>1</th>\n",
              "      <td>2</td>\n",
              "      <td>GARY JIMENEZ</td>\n",
              "      <td>CAPTAIN III (POLICE DEPARTMENT)</td>\n",
              "      <td>155966.02</td>\n",
              "      <td>245131.88</td>\n",
              "      <td>137811.38</td>\n",
              "      <td>NaN</td>\n",
              "      <td>538909.28</td>\n",
              "      <td>538909.28</td>\n",
              "      <td>2011</td>\n",
              "      <td>NaN</td>\n",
              "      <td>San Francisco</td>\n",
              "      <td>NaN</td>\n",
              "    </tr>\n",
              "    <tr>\n",
              "      <th>2</th>\n",
              "      <td>3</td>\n",
              "      <td>ALBERT PARDINI</td>\n",
              "      <td>CAPTAIN III (POLICE DEPARTMENT)</td>\n",
              "      <td>212739.13</td>\n",
              "      <td>106088.18</td>\n",
              "      <td>16452.6</td>\n",
              "      <td>NaN</td>\n",
              "      <td>335279.91</td>\n",
              "      <td>335279.91</td>\n",
              "      <td>2011</td>\n",
              "      <td>NaN</td>\n",
              "      <td>San Francisco</td>\n",
              "      <td>NaN</td>\n",
              "    </tr>\n",
              "    <tr>\n",
              "      <th>3</th>\n",
              "      <td>4</td>\n",
              "      <td>CHRISTOPHER CHONG</td>\n",
              "      <td>WIRE ROPE CABLE MAINTENANCE MECHANIC</td>\n",
              "      <td>77916.0</td>\n",
              "      <td>56120.71</td>\n",
              "      <td>198306.9</td>\n",
              "      <td>NaN</td>\n",
              "      <td>332343.61</td>\n",
              "      <td>332343.61</td>\n",
              "      <td>2011</td>\n",
              "      <td>NaN</td>\n",
              "      <td>San Francisco</td>\n",
              "      <td>NaN</td>\n",
              "    </tr>\n",
              "    <tr>\n",
              "      <th>4</th>\n",
              "      <td>5</td>\n",
              "      <td>PATRICK GARDNER</td>\n",
              "      <td>DEPUTY CHIEF OF DEPARTMENT,(FIRE DEPARTMENT)</td>\n",
              "      <td>134401.6</td>\n",
              "      <td>9737.0</td>\n",
              "      <td>182234.59</td>\n",
              "      <td>NaN</td>\n",
              "      <td>326373.19</td>\n",
              "      <td>326373.19</td>\n",
              "      <td>2011</td>\n",
              "      <td>NaN</td>\n",
              "      <td>San Francisco</td>\n",
              "      <td>NaN</td>\n",
              "    </tr>\n",
              "    <tr>\n",
              "      <th>5</th>\n",
              "      <td>6</td>\n",
              "      <td>DAVID SULLIVAN</td>\n",
              "      <td>ASSISTANT DEPUTY CHIEF II</td>\n",
              "      <td>118602.0</td>\n",
              "      <td>8601.0</td>\n",
              "      <td>189082.74</td>\n",
              "      <td>NaN</td>\n",
              "      <td>316285.74</td>\n",
              "      <td>316285.74</td>\n",
              "      <td>2011</td>\n",
              "      <td>NaN</td>\n",
              "      <td>San Francisco</td>\n",
              "      <td>NaN</td>\n",
              "    </tr>\n",
              "    <tr>\n",
              "      <th>6</th>\n",
              "      <td>7</td>\n",
              "      <td>ALSON LEE</td>\n",
              "      <td>BATTALION CHIEF, (FIRE DEPARTMENT)</td>\n",
              "      <td>92492.01</td>\n",
              "      <td>89062.9</td>\n",
              "      <td>134426.14</td>\n",
              "      <td>NaN</td>\n",
              "      <td>315981.05</td>\n",
              "      <td>315981.05</td>\n",
              "      <td>2011</td>\n",
              "      <td>NaN</td>\n",
              "      <td>San Francisco</td>\n",
              "      <td>NaN</td>\n",
              "    </tr>\n",
              "    <tr>\n",
              "      <th>7</th>\n",
              "      <td>8</td>\n",
              "      <td>DAVID KUSHNER</td>\n",
              "      <td>DEPUTY DIRECTOR OF INVESTMENTS</td>\n",
              "      <td>256576.96</td>\n",
              "      <td>0.0</td>\n",
              "      <td>51322.5</td>\n",
              "      <td>NaN</td>\n",
              "      <td>307899.46</td>\n",
              "      <td>307899.46</td>\n",
              "      <td>2011</td>\n",
              "      <td>NaN</td>\n",
              "      <td>San Francisco</td>\n",
              "      <td>NaN</td>\n",
              "    </tr>\n",
              "    <tr>\n",
              "      <th>8</th>\n",
              "      <td>9</td>\n",
              "      <td>MICHAEL MORRIS</td>\n",
              "      <td>BATTALION CHIEF, (FIRE DEPARTMENT)</td>\n",
              "      <td>176932.64</td>\n",
              "      <td>86362.68</td>\n",
              "      <td>40132.23</td>\n",
              "      <td>NaN</td>\n",
              "      <td>303427.55</td>\n",
              "      <td>303427.55</td>\n",
              "      <td>2011</td>\n",
              "      <td>NaN</td>\n",
              "      <td>San Francisco</td>\n",
              "      <td>NaN</td>\n",
              "    </tr>\n",
              "    <tr>\n",
              "      <th>9</th>\n",
              "      <td>10</td>\n",
              "      <td>JOANNE HAYES-WHITE</td>\n",
              "      <td>CHIEF OF DEPARTMENT, (FIRE DEPARTMENT)</td>\n",
              "      <td>285262.0</td>\n",
              "      <td>0.0</td>\n",
              "      <td>17115.73</td>\n",
              "      <td>NaN</td>\n",
              "      <td>302377.73</td>\n",
              "      <td>302377.73</td>\n",
              "      <td>2011</td>\n",
              "      <td>NaN</td>\n",
              "      <td>San Francisco</td>\n",
              "      <td>NaN</td>\n",
              "    </tr>\n",
              "  </tbody>\n",
              "</table>\n",
              "</div>\n",
              "      <button class=\"colab-df-convert\" onclick=\"convertToInteractive('df-6e48bbe7-36a1-448e-bc75-88d65c23533c')\"\n",
              "              title=\"Convert this dataframe to an interactive table.\"\n",
              "              style=\"display:none;\">\n",
              "        \n",
              "  <svg xmlns=\"http://www.w3.org/2000/svg\" height=\"24px\"viewBox=\"0 0 24 24\"\n",
              "       width=\"24px\">\n",
              "    <path d=\"M0 0h24v24H0V0z\" fill=\"none\"/>\n",
              "    <path d=\"M18.56 5.44l.94 2.06.94-2.06 2.06-.94-2.06-.94-.94-2.06-.94 2.06-2.06.94zm-11 1L8.5 8.5l.94-2.06 2.06-.94-2.06-.94L8.5 2.5l-.94 2.06-2.06.94zm10 10l.94 2.06.94-2.06 2.06-.94-2.06-.94-.94-2.06-.94 2.06-2.06.94z\"/><path d=\"M17.41 7.96l-1.37-1.37c-.4-.4-.92-.59-1.43-.59-.52 0-1.04.2-1.43.59L10.3 9.45l-7.72 7.72c-.78.78-.78 2.05 0 2.83L4 21.41c.39.39.9.59 1.41.59.51 0 1.02-.2 1.41-.59l7.78-7.78 2.81-2.81c.8-.78.8-2.07 0-2.86zM5.41 20L4 18.59l7.72-7.72 1.47 1.35L5.41 20z\"/>\n",
              "  </svg>\n",
              "      </button>\n",
              "      \n",
              "  <style>\n",
              "    .colab-df-container {\n",
              "      display:flex;\n",
              "      flex-wrap:wrap;\n",
              "      gap: 12px;\n",
              "    }\n",
              "\n",
              "    .colab-df-convert {\n",
              "      background-color: #E8F0FE;\n",
              "      border: none;\n",
              "      border-radius: 50%;\n",
              "      cursor: pointer;\n",
              "      display: none;\n",
              "      fill: #1967D2;\n",
              "      height: 32px;\n",
              "      padding: 0 0 0 0;\n",
              "      width: 32px;\n",
              "    }\n",
              "\n",
              "    .colab-df-convert:hover {\n",
              "      background-color: #E2EBFA;\n",
              "      box-shadow: 0px 1px 2px rgba(60, 64, 67, 0.3), 0px 1px 3px 1px rgba(60, 64, 67, 0.15);\n",
              "      fill: #174EA6;\n",
              "    }\n",
              "\n",
              "    [theme=dark] .colab-df-convert {\n",
              "      background-color: #3B4455;\n",
              "      fill: #D2E3FC;\n",
              "    }\n",
              "\n",
              "    [theme=dark] .colab-df-convert:hover {\n",
              "      background-color: #434B5C;\n",
              "      box-shadow: 0px 1px 3px 1px rgba(0, 0, 0, 0.15);\n",
              "      filter: drop-shadow(0px 1px 2px rgba(0, 0, 0, 0.3));\n",
              "      fill: #FFFFFF;\n",
              "    }\n",
              "  </style>\n",
              "\n",
              "      <script>\n",
              "        const buttonEl =\n",
              "          document.querySelector('#df-6e48bbe7-36a1-448e-bc75-88d65c23533c button.colab-df-convert');\n",
              "        buttonEl.style.display =\n",
              "          google.colab.kernel.accessAllowed ? 'block' : 'none';\n",
              "\n",
              "        async function convertToInteractive(key) {\n",
              "          const element = document.querySelector('#df-6e48bbe7-36a1-448e-bc75-88d65c23533c');\n",
              "          const dataTable =\n",
              "            await google.colab.kernel.invokeFunction('convertToInteractive',\n",
              "                                                     [key], {});\n",
              "          if (!dataTable) return;\n",
              "\n",
              "          const docLinkHtml = 'Like what you see? Visit the ' +\n",
              "            '<a target=\"_blank\" href=https://colab.research.google.com/notebooks/data_table.ipynb>data table notebook</a>'\n",
              "            + ' to learn more about interactive tables.';\n",
              "          element.innerHTML = '';\n",
              "          dataTable['output_type'] = 'display_data';\n",
              "          await google.colab.output.renderOutput(dataTable, element);\n",
              "          const docLink = document.createElement('div');\n",
              "          docLink.innerHTML = docLinkHtml;\n",
              "          element.appendChild(docLink);\n",
              "        }\n",
              "      </script>\n",
              "    </div>\n",
              "  </div>\n",
              "  "
            ]
          },
          "metadata": {},
          "execution_count": 4
        }
      ]
    },
    {
      "cell_type": "code",
      "source": [
        "#check last 10 rows of the dataset\n",
        "data.tail(10)"
      ],
      "metadata": {
        "colab": {
          "base_uri": "https://localhost:8080/",
          "height": 580
        },
        "id": "aL5eXy3qZ5GU",
        "outputId": "024b2242-965b-4e9d-c61e-5bb9672f68d7"
      },
      "execution_count": null,
      "outputs": [
        {
          "output_type": "execute_result",
          "data": {
            "text/plain": [
              "            Id      EmployeeName                      JobTitle       BasePay  \\\n",
              "148644  148645      Randy D Winn  Stationary Eng, Sewage Plant          0.00   \n",
              "148645  148646  Carolyn A Wilson     Human Services Technician          0.00   \n",
              "148646  148647      Not provided                  Not provided  Not Provided   \n",
              "148647  148648    Joann Anderson   Communications Dispatcher 2          0.00   \n",
              "148648  148649       Leon Walker                     Custodian          0.00   \n",
              "148649  148650     Roy I Tillery                     Custodian          0.00   \n",
              "148650  148651      Not provided                  Not provided  Not Provided   \n",
              "148651  148652      Not provided                  Not provided  Not Provided   \n",
              "148652  148653      Not provided                  Not provided  Not Provided   \n",
              "148653  148654         Joe Lopez    Counselor, Log Cabin Ranch          0.00   \n",
              "\n",
              "         OvertimePay      OtherPay      Benefits  TotalPay  TotalPayBenefits  \\\n",
              "148644          0.00          0.00          0.00      0.00              0.00   \n",
              "148645          0.00          0.00          0.00      0.00              0.00   \n",
              "148646  Not Provided  Not Provided  Not Provided      0.00              0.00   \n",
              "148647          0.00          0.00          0.00      0.00              0.00   \n",
              "148648          0.00          0.00          0.00      0.00              0.00   \n",
              "148649          0.00          0.00          0.00      0.00              0.00   \n",
              "148650  Not Provided  Not Provided  Not Provided      0.00              0.00   \n",
              "148651  Not Provided  Not Provided  Not Provided      0.00              0.00   \n",
              "148652  Not Provided  Not Provided  Not Provided      0.00              0.00   \n",
              "148653          0.00       -618.13          0.00   -618.13           -618.13   \n",
              "\n",
              "        Year  Notes         Agency Status  \n",
              "148644  2014    NaN  San Francisco     PT  \n",
              "148645  2014    NaN  San Francisco     PT  \n",
              "148646  2014    NaN  San Francisco    NaN  \n",
              "148647  2014    NaN  San Francisco     PT  \n",
              "148648  2014    NaN  San Francisco     PT  \n",
              "148649  2014    NaN  San Francisco     PT  \n",
              "148650  2014    NaN  San Francisco    NaN  \n",
              "148651  2014    NaN  San Francisco    NaN  \n",
              "148652  2014    NaN  San Francisco    NaN  \n",
              "148653  2014    NaN  San Francisco     PT  "
            ],
            "text/html": [
              "\n",
              "  <div id=\"df-5ced0774-4c1b-45da-b8c2-608bb49f6b12\">\n",
              "    <div class=\"colab-df-container\">\n",
              "      <div>\n",
              "<style scoped>\n",
              "    .dataframe tbody tr th:only-of-type {\n",
              "        vertical-align: middle;\n",
              "    }\n",
              "\n",
              "    .dataframe tbody tr th {\n",
              "        vertical-align: top;\n",
              "    }\n",
              "\n",
              "    .dataframe thead th {\n",
              "        text-align: right;\n",
              "    }\n",
              "</style>\n",
              "<table border=\"1\" class=\"dataframe\">\n",
              "  <thead>\n",
              "    <tr style=\"text-align: right;\">\n",
              "      <th></th>\n",
              "      <th>Id</th>\n",
              "      <th>EmployeeName</th>\n",
              "      <th>JobTitle</th>\n",
              "      <th>BasePay</th>\n",
              "      <th>OvertimePay</th>\n",
              "      <th>OtherPay</th>\n",
              "      <th>Benefits</th>\n",
              "      <th>TotalPay</th>\n",
              "      <th>TotalPayBenefits</th>\n",
              "      <th>Year</th>\n",
              "      <th>Notes</th>\n",
              "      <th>Agency</th>\n",
              "      <th>Status</th>\n",
              "    </tr>\n",
              "  </thead>\n",
              "  <tbody>\n",
              "    <tr>\n",
              "      <th>148644</th>\n",
              "      <td>148645</td>\n",
              "      <td>Randy D Winn</td>\n",
              "      <td>Stationary Eng, Sewage Plant</td>\n",
              "      <td>0.00</td>\n",
              "      <td>0.00</td>\n",
              "      <td>0.00</td>\n",
              "      <td>0.00</td>\n",
              "      <td>0.00</td>\n",
              "      <td>0.00</td>\n",
              "      <td>2014</td>\n",
              "      <td>NaN</td>\n",
              "      <td>San Francisco</td>\n",
              "      <td>PT</td>\n",
              "    </tr>\n",
              "    <tr>\n",
              "      <th>148645</th>\n",
              "      <td>148646</td>\n",
              "      <td>Carolyn A Wilson</td>\n",
              "      <td>Human Services Technician</td>\n",
              "      <td>0.00</td>\n",
              "      <td>0.00</td>\n",
              "      <td>0.00</td>\n",
              "      <td>0.00</td>\n",
              "      <td>0.00</td>\n",
              "      <td>0.00</td>\n",
              "      <td>2014</td>\n",
              "      <td>NaN</td>\n",
              "      <td>San Francisco</td>\n",
              "      <td>PT</td>\n",
              "    </tr>\n",
              "    <tr>\n",
              "      <th>148646</th>\n",
              "      <td>148647</td>\n",
              "      <td>Not provided</td>\n",
              "      <td>Not provided</td>\n",
              "      <td>Not Provided</td>\n",
              "      <td>Not Provided</td>\n",
              "      <td>Not Provided</td>\n",
              "      <td>Not Provided</td>\n",
              "      <td>0.00</td>\n",
              "      <td>0.00</td>\n",
              "      <td>2014</td>\n",
              "      <td>NaN</td>\n",
              "      <td>San Francisco</td>\n",
              "      <td>NaN</td>\n",
              "    </tr>\n",
              "    <tr>\n",
              "      <th>148647</th>\n",
              "      <td>148648</td>\n",
              "      <td>Joann Anderson</td>\n",
              "      <td>Communications Dispatcher 2</td>\n",
              "      <td>0.00</td>\n",
              "      <td>0.00</td>\n",
              "      <td>0.00</td>\n",
              "      <td>0.00</td>\n",
              "      <td>0.00</td>\n",
              "      <td>0.00</td>\n",
              "      <td>2014</td>\n",
              "      <td>NaN</td>\n",
              "      <td>San Francisco</td>\n",
              "      <td>PT</td>\n",
              "    </tr>\n",
              "    <tr>\n",
              "      <th>148648</th>\n",
              "      <td>148649</td>\n",
              "      <td>Leon Walker</td>\n",
              "      <td>Custodian</td>\n",
              "      <td>0.00</td>\n",
              "      <td>0.00</td>\n",
              "      <td>0.00</td>\n",
              "      <td>0.00</td>\n",
              "      <td>0.00</td>\n",
              "      <td>0.00</td>\n",
              "      <td>2014</td>\n",
              "      <td>NaN</td>\n",
              "      <td>San Francisco</td>\n",
              "      <td>PT</td>\n",
              "    </tr>\n",
              "    <tr>\n",
              "      <th>148649</th>\n",
              "      <td>148650</td>\n",
              "      <td>Roy I Tillery</td>\n",
              "      <td>Custodian</td>\n",
              "      <td>0.00</td>\n",
              "      <td>0.00</td>\n",
              "      <td>0.00</td>\n",
              "      <td>0.00</td>\n",
              "      <td>0.00</td>\n",
              "      <td>0.00</td>\n",
              "      <td>2014</td>\n",
              "      <td>NaN</td>\n",
              "      <td>San Francisco</td>\n",
              "      <td>PT</td>\n",
              "    </tr>\n",
              "    <tr>\n",
              "      <th>148650</th>\n",
              "      <td>148651</td>\n",
              "      <td>Not provided</td>\n",
              "      <td>Not provided</td>\n",
              "      <td>Not Provided</td>\n",
              "      <td>Not Provided</td>\n",
              "      <td>Not Provided</td>\n",
              "      <td>Not Provided</td>\n",
              "      <td>0.00</td>\n",
              "      <td>0.00</td>\n",
              "      <td>2014</td>\n",
              "      <td>NaN</td>\n",
              "      <td>San Francisco</td>\n",
              "      <td>NaN</td>\n",
              "    </tr>\n",
              "    <tr>\n",
              "      <th>148651</th>\n",
              "      <td>148652</td>\n",
              "      <td>Not provided</td>\n",
              "      <td>Not provided</td>\n",
              "      <td>Not Provided</td>\n",
              "      <td>Not Provided</td>\n",
              "      <td>Not Provided</td>\n",
              "      <td>Not Provided</td>\n",
              "      <td>0.00</td>\n",
              "      <td>0.00</td>\n",
              "      <td>2014</td>\n",
              "      <td>NaN</td>\n",
              "      <td>San Francisco</td>\n",
              "      <td>NaN</td>\n",
              "    </tr>\n",
              "    <tr>\n",
              "      <th>148652</th>\n",
              "      <td>148653</td>\n",
              "      <td>Not provided</td>\n",
              "      <td>Not provided</td>\n",
              "      <td>Not Provided</td>\n",
              "      <td>Not Provided</td>\n",
              "      <td>Not Provided</td>\n",
              "      <td>Not Provided</td>\n",
              "      <td>0.00</td>\n",
              "      <td>0.00</td>\n",
              "      <td>2014</td>\n",
              "      <td>NaN</td>\n",
              "      <td>San Francisco</td>\n",
              "      <td>NaN</td>\n",
              "    </tr>\n",
              "    <tr>\n",
              "      <th>148653</th>\n",
              "      <td>148654</td>\n",
              "      <td>Joe Lopez</td>\n",
              "      <td>Counselor, Log Cabin Ranch</td>\n",
              "      <td>0.00</td>\n",
              "      <td>0.00</td>\n",
              "      <td>-618.13</td>\n",
              "      <td>0.00</td>\n",
              "      <td>-618.13</td>\n",
              "      <td>-618.13</td>\n",
              "      <td>2014</td>\n",
              "      <td>NaN</td>\n",
              "      <td>San Francisco</td>\n",
              "      <td>PT</td>\n",
              "    </tr>\n",
              "  </tbody>\n",
              "</table>\n",
              "</div>\n",
              "      <button class=\"colab-df-convert\" onclick=\"convertToInteractive('df-5ced0774-4c1b-45da-b8c2-608bb49f6b12')\"\n",
              "              title=\"Convert this dataframe to an interactive table.\"\n",
              "              style=\"display:none;\">\n",
              "        \n",
              "  <svg xmlns=\"http://www.w3.org/2000/svg\" height=\"24px\"viewBox=\"0 0 24 24\"\n",
              "       width=\"24px\">\n",
              "    <path d=\"M0 0h24v24H0V0z\" fill=\"none\"/>\n",
              "    <path d=\"M18.56 5.44l.94 2.06.94-2.06 2.06-.94-2.06-.94-.94-2.06-.94 2.06-2.06.94zm-11 1L8.5 8.5l.94-2.06 2.06-.94-2.06-.94L8.5 2.5l-.94 2.06-2.06.94zm10 10l.94 2.06.94-2.06 2.06-.94-2.06-.94-.94-2.06-.94 2.06-2.06.94z\"/><path d=\"M17.41 7.96l-1.37-1.37c-.4-.4-.92-.59-1.43-.59-.52 0-1.04.2-1.43.59L10.3 9.45l-7.72 7.72c-.78.78-.78 2.05 0 2.83L4 21.41c.39.39.9.59 1.41.59.51 0 1.02-.2 1.41-.59l7.78-7.78 2.81-2.81c.8-.78.8-2.07 0-2.86zM5.41 20L4 18.59l7.72-7.72 1.47 1.35L5.41 20z\"/>\n",
              "  </svg>\n",
              "      </button>\n",
              "      \n",
              "  <style>\n",
              "    .colab-df-container {\n",
              "      display:flex;\n",
              "      flex-wrap:wrap;\n",
              "      gap: 12px;\n",
              "    }\n",
              "\n",
              "    .colab-df-convert {\n",
              "      background-color: #E8F0FE;\n",
              "      border: none;\n",
              "      border-radius: 50%;\n",
              "      cursor: pointer;\n",
              "      display: none;\n",
              "      fill: #1967D2;\n",
              "      height: 32px;\n",
              "      padding: 0 0 0 0;\n",
              "      width: 32px;\n",
              "    }\n",
              "\n",
              "    .colab-df-convert:hover {\n",
              "      background-color: #E2EBFA;\n",
              "      box-shadow: 0px 1px 2px rgba(60, 64, 67, 0.3), 0px 1px 3px 1px rgba(60, 64, 67, 0.15);\n",
              "      fill: #174EA6;\n",
              "    }\n",
              "\n",
              "    [theme=dark] .colab-df-convert {\n",
              "      background-color: #3B4455;\n",
              "      fill: #D2E3FC;\n",
              "    }\n",
              "\n",
              "    [theme=dark] .colab-df-convert:hover {\n",
              "      background-color: #434B5C;\n",
              "      box-shadow: 0px 1px 3px 1px rgba(0, 0, 0, 0.15);\n",
              "      filter: drop-shadow(0px 1px 2px rgba(0, 0, 0, 0.3));\n",
              "      fill: #FFFFFF;\n",
              "    }\n",
              "  </style>\n",
              "\n",
              "      <script>\n",
              "        const buttonEl =\n",
              "          document.querySelector('#df-5ced0774-4c1b-45da-b8c2-608bb49f6b12 button.colab-df-convert');\n",
              "        buttonEl.style.display =\n",
              "          google.colab.kernel.accessAllowed ? 'block' : 'none';\n",
              "\n",
              "        async function convertToInteractive(key) {\n",
              "          const element = document.querySelector('#df-5ced0774-4c1b-45da-b8c2-608bb49f6b12');\n",
              "          const dataTable =\n",
              "            await google.colab.kernel.invokeFunction('convertToInteractive',\n",
              "                                                     [key], {});\n",
              "          if (!dataTable) return;\n",
              "\n",
              "          const docLinkHtml = 'Like what you see? Visit the ' +\n",
              "            '<a target=\"_blank\" href=https://colab.research.google.com/notebooks/data_table.ipynb>data table notebook</a>'\n",
              "            + ' to learn more about interactive tables.';\n",
              "          element.innerHTML = '';\n",
              "          dataTable['output_type'] = 'display_data';\n",
              "          await google.colab.output.renderOutput(dataTable, element);\n",
              "          const docLink = document.createElement('div');\n",
              "          docLink.innerHTML = docLinkHtml;\n",
              "          element.appendChild(docLink);\n",
              "        }\n",
              "      </script>\n",
              "    </div>\n",
              "  </div>\n",
              "  "
            ]
          },
          "metadata": {},
          "execution_count": 5
        }
      ]
    },
    {
      "cell_type": "code",
      "source": [
        "#find the shape of the dataset\n",
        "data.shape"
      ],
      "metadata": {
        "colab": {
          "base_uri": "https://localhost:8080/"
        },
        "id": "TJqv3z2zZ5Jd",
        "outputId": "01225b24-6533-4140-bfae-3c9dbb80f4d7"
      },
      "execution_count": null,
      "outputs": [
        {
          "output_type": "execute_result",
          "data": {
            "text/plain": [
              "(148654, 13)"
            ]
          },
          "metadata": {},
          "execution_count": 6
        }
      ]
    },
    {
      "cell_type": "code",
      "source": [
        "print('No of rows',data.shape[0])"
      ],
      "metadata": {
        "colab": {
          "base_uri": "https://localhost:8080/"
        },
        "id": "01JU1vKqZ5NU",
        "outputId": "cdd97b5f-c97d-4668-a7d6-8499a0081aa2"
      },
      "execution_count": null,
      "outputs": [
        {
          "output_type": "stream",
          "name": "stdout",
          "text": [
            "No of rows 148654\n"
          ]
        }
      ]
    },
    {
      "cell_type": "code",
      "source": [
        "print('No of columns',data.shape[1])"
      ],
      "metadata": {
        "colab": {
          "base_uri": "https://localhost:8080/"
        },
        "id": "Y9PO5pCKbi5U",
        "outputId": "c8f93fe2-bb5c-473e-a881-d2191fe1a329"
      },
      "execution_count": null,
      "outputs": [
        {
          "output_type": "stream",
          "name": "stdout",
          "text": [
            "No of columns 13\n"
          ]
        }
      ]
    },
    {
      "cell_type": "code",
      "source": [
        "#Getting info about our dataset\n",
        "data.info()"
      ],
      "metadata": {
        "colab": {
          "base_uri": "https://localhost:8080/"
        },
        "id": "57bKrMEmbi8B",
        "outputId": "41f7781b-ed1e-4061-d609-823080214951"
      },
      "execution_count": null,
      "outputs": [
        {
          "output_type": "stream",
          "name": "stdout",
          "text": [
            "<class 'pandas.core.frame.DataFrame'>\n",
            "RangeIndex: 148654 entries, 0 to 148653\n",
            "Data columns (total 13 columns):\n",
            " #   Column            Non-Null Count   Dtype  \n",
            "---  ------            --------------   -----  \n",
            " 0   Id                148654 non-null  int64  \n",
            " 1   EmployeeName      148654 non-null  object \n",
            " 2   JobTitle          148654 non-null  object \n",
            " 3   BasePay           148049 non-null  object \n",
            " 4   OvertimePay       148654 non-null  object \n",
            " 5   OtherPay          148654 non-null  object \n",
            " 6   Benefits          112495 non-null  object \n",
            " 7   TotalPay          148654 non-null  float64\n",
            " 8   TotalPayBenefits  148654 non-null  float64\n",
            " 9   Year              148654 non-null  int64  \n",
            " 10  Notes             0 non-null       float64\n",
            " 11  Agency            148654 non-null  object \n",
            " 12  Status            38119 non-null   object \n",
            "dtypes: float64(3), int64(2), object(8)\n",
            "memory usage: 14.7+ MB\n"
          ]
        }
      ]
    },
    {
      "cell_type": "code",
      "source": [
        "#Check null values in the dataset\n",
        "data.isnull().sum()"
      ],
      "metadata": {
        "colab": {
          "base_uri": "https://localhost:8080/"
        },
        "id": "9MfVlvuTbi-3",
        "outputId": "2da347eb-1ca6-4f0e-a83e-208b70d1e7fb"
      },
      "execution_count": null,
      "outputs": [
        {
          "output_type": "execute_result",
          "data": {
            "text/plain": [
              "Id                       0\n",
              "EmployeeName             0\n",
              "JobTitle                 0\n",
              "BasePay                605\n",
              "OvertimePay              0\n",
              "OtherPay                 0\n",
              "Benefits             36159\n",
              "TotalPay                 0\n",
              "TotalPayBenefits         0\n",
              "Year                     0\n",
              "Notes               148654\n",
              "Agency                   0\n",
              "Status              110535\n",
              "dtype: int64"
            ]
          },
          "metadata": {},
          "execution_count": 10
        }
      ]
    },
    {
      "cell_type": "code",
      "source": [
        "#Drop id, notes, agency and status column\n",
        "data.columns"
      ],
      "metadata": {
        "colab": {
          "base_uri": "https://localhost:8080/"
        },
        "id": "s6394VsZbjBf",
        "outputId": "2be47ad4-04d9-4c28-87d2-a5886ae1fa8c"
      },
      "execution_count": null,
      "outputs": [
        {
          "output_type": "execute_result",
          "data": {
            "text/plain": [
              "Index(['Id', 'EmployeeName', 'JobTitle', 'BasePay', 'OvertimePay', 'OtherPay',\n",
              "       'Benefits', 'TotalPay', 'TotalPayBenefits', 'Year', 'Notes', 'Agency',\n",
              "       'Status'],\n",
              "      dtype='object')"
            ]
          },
          "metadata": {},
          "execution_count": 11
        }
      ]
    },
    {
      "cell_type": "code",
      "source": [
        "data.drop(['Id','Notes','Agency','Status'],axis=1)"
      ],
      "metadata": {
        "colab": {
          "base_uri": "https://localhost:8080/",
          "height": 572
        },
        "id": "CuzHzTVfcxGQ",
        "outputId": "d384bd02-b070-497f-8941-22325138f8ca"
      },
      "execution_count": null,
      "outputs": [
        {
          "output_type": "execute_result",
          "data": {
            "text/plain": [
              "             EmployeeName                                        JobTitle  \\\n",
              "0          NATHANIEL FORD  GENERAL MANAGER-METROPOLITAN TRANSIT AUTHORITY   \n",
              "1            GARY JIMENEZ                 CAPTAIN III (POLICE DEPARTMENT)   \n",
              "2          ALBERT PARDINI                 CAPTAIN III (POLICE DEPARTMENT)   \n",
              "3       CHRISTOPHER CHONG            WIRE ROPE CABLE MAINTENANCE MECHANIC   \n",
              "4         PATRICK GARDNER    DEPUTY CHIEF OF DEPARTMENT,(FIRE DEPARTMENT)   \n",
              "...                   ...                                             ...   \n",
              "148649      Roy I Tillery                                       Custodian   \n",
              "148650       Not provided                                    Not provided   \n",
              "148651       Not provided                                    Not provided   \n",
              "148652       Not provided                                    Not provided   \n",
              "148653          Joe Lopez                      Counselor, Log Cabin Ranch   \n",
              "\n",
              "             BasePay   OvertimePay      OtherPay      Benefits   TotalPay  \\\n",
              "0          167411.18           0.0     400184.25           NaN  567595.43   \n",
              "1          155966.02     245131.88     137811.38           NaN  538909.28   \n",
              "2          212739.13     106088.18       16452.6           NaN  335279.91   \n",
              "3            77916.0      56120.71      198306.9           NaN  332343.61   \n",
              "4           134401.6        9737.0     182234.59           NaN  326373.19   \n",
              "...              ...           ...           ...           ...        ...   \n",
              "148649          0.00          0.00          0.00          0.00       0.00   \n",
              "148650  Not Provided  Not Provided  Not Provided  Not Provided       0.00   \n",
              "148651  Not Provided  Not Provided  Not Provided  Not Provided       0.00   \n",
              "148652  Not Provided  Not Provided  Not Provided  Not Provided       0.00   \n",
              "148653          0.00          0.00       -618.13          0.00    -618.13   \n",
              "\n",
              "        TotalPayBenefits  Year  \n",
              "0              567595.43  2011  \n",
              "1              538909.28  2011  \n",
              "2              335279.91  2011  \n",
              "3              332343.61  2011  \n",
              "4              326373.19  2011  \n",
              "...                  ...   ...  \n",
              "148649              0.00  2014  \n",
              "148650              0.00  2014  \n",
              "148651              0.00  2014  \n",
              "148652              0.00  2014  \n",
              "148653           -618.13  2014  \n",
              "\n",
              "[148654 rows x 9 columns]"
            ],
            "text/html": [
              "\n",
              "  <div id=\"df-77c74d59-f982-4272-8122-626640f96fc1\">\n",
              "    <div class=\"colab-df-container\">\n",
              "      <div>\n",
              "<style scoped>\n",
              "    .dataframe tbody tr th:only-of-type {\n",
              "        vertical-align: middle;\n",
              "    }\n",
              "\n",
              "    .dataframe tbody tr th {\n",
              "        vertical-align: top;\n",
              "    }\n",
              "\n",
              "    .dataframe thead th {\n",
              "        text-align: right;\n",
              "    }\n",
              "</style>\n",
              "<table border=\"1\" class=\"dataframe\">\n",
              "  <thead>\n",
              "    <tr style=\"text-align: right;\">\n",
              "      <th></th>\n",
              "      <th>EmployeeName</th>\n",
              "      <th>JobTitle</th>\n",
              "      <th>BasePay</th>\n",
              "      <th>OvertimePay</th>\n",
              "      <th>OtherPay</th>\n",
              "      <th>Benefits</th>\n",
              "      <th>TotalPay</th>\n",
              "      <th>TotalPayBenefits</th>\n",
              "      <th>Year</th>\n",
              "    </tr>\n",
              "  </thead>\n",
              "  <tbody>\n",
              "    <tr>\n",
              "      <th>0</th>\n",
              "      <td>NATHANIEL FORD</td>\n",
              "      <td>GENERAL MANAGER-METROPOLITAN TRANSIT AUTHORITY</td>\n",
              "      <td>167411.18</td>\n",
              "      <td>0.0</td>\n",
              "      <td>400184.25</td>\n",
              "      <td>NaN</td>\n",
              "      <td>567595.43</td>\n",
              "      <td>567595.43</td>\n",
              "      <td>2011</td>\n",
              "    </tr>\n",
              "    <tr>\n",
              "      <th>1</th>\n",
              "      <td>GARY JIMENEZ</td>\n",
              "      <td>CAPTAIN III (POLICE DEPARTMENT)</td>\n",
              "      <td>155966.02</td>\n",
              "      <td>245131.88</td>\n",
              "      <td>137811.38</td>\n",
              "      <td>NaN</td>\n",
              "      <td>538909.28</td>\n",
              "      <td>538909.28</td>\n",
              "      <td>2011</td>\n",
              "    </tr>\n",
              "    <tr>\n",
              "      <th>2</th>\n",
              "      <td>ALBERT PARDINI</td>\n",
              "      <td>CAPTAIN III (POLICE DEPARTMENT)</td>\n",
              "      <td>212739.13</td>\n",
              "      <td>106088.18</td>\n",
              "      <td>16452.6</td>\n",
              "      <td>NaN</td>\n",
              "      <td>335279.91</td>\n",
              "      <td>335279.91</td>\n",
              "      <td>2011</td>\n",
              "    </tr>\n",
              "    <tr>\n",
              "      <th>3</th>\n",
              "      <td>CHRISTOPHER CHONG</td>\n",
              "      <td>WIRE ROPE CABLE MAINTENANCE MECHANIC</td>\n",
              "      <td>77916.0</td>\n",
              "      <td>56120.71</td>\n",
              "      <td>198306.9</td>\n",
              "      <td>NaN</td>\n",
              "      <td>332343.61</td>\n",
              "      <td>332343.61</td>\n",
              "      <td>2011</td>\n",
              "    </tr>\n",
              "    <tr>\n",
              "      <th>4</th>\n",
              "      <td>PATRICK GARDNER</td>\n",
              "      <td>DEPUTY CHIEF OF DEPARTMENT,(FIRE DEPARTMENT)</td>\n",
              "      <td>134401.6</td>\n",
              "      <td>9737.0</td>\n",
              "      <td>182234.59</td>\n",
              "      <td>NaN</td>\n",
              "      <td>326373.19</td>\n",
              "      <td>326373.19</td>\n",
              "      <td>2011</td>\n",
              "    </tr>\n",
              "    <tr>\n",
              "      <th>...</th>\n",
              "      <td>...</td>\n",
              "      <td>...</td>\n",
              "      <td>...</td>\n",
              "      <td>...</td>\n",
              "      <td>...</td>\n",
              "      <td>...</td>\n",
              "      <td>...</td>\n",
              "      <td>...</td>\n",
              "      <td>...</td>\n",
              "    </tr>\n",
              "    <tr>\n",
              "      <th>148649</th>\n",
              "      <td>Roy I Tillery</td>\n",
              "      <td>Custodian</td>\n",
              "      <td>0.00</td>\n",
              "      <td>0.00</td>\n",
              "      <td>0.00</td>\n",
              "      <td>0.00</td>\n",
              "      <td>0.00</td>\n",
              "      <td>0.00</td>\n",
              "      <td>2014</td>\n",
              "    </tr>\n",
              "    <tr>\n",
              "      <th>148650</th>\n",
              "      <td>Not provided</td>\n",
              "      <td>Not provided</td>\n",
              "      <td>Not Provided</td>\n",
              "      <td>Not Provided</td>\n",
              "      <td>Not Provided</td>\n",
              "      <td>Not Provided</td>\n",
              "      <td>0.00</td>\n",
              "      <td>0.00</td>\n",
              "      <td>2014</td>\n",
              "    </tr>\n",
              "    <tr>\n",
              "      <th>148651</th>\n",
              "      <td>Not provided</td>\n",
              "      <td>Not provided</td>\n",
              "      <td>Not Provided</td>\n",
              "      <td>Not Provided</td>\n",
              "      <td>Not Provided</td>\n",
              "      <td>Not Provided</td>\n",
              "      <td>0.00</td>\n",
              "      <td>0.00</td>\n",
              "      <td>2014</td>\n",
              "    </tr>\n",
              "    <tr>\n",
              "      <th>148652</th>\n",
              "      <td>Not provided</td>\n",
              "      <td>Not provided</td>\n",
              "      <td>Not Provided</td>\n",
              "      <td>Not Provided</td>\n",
              "      <td>Not Provided</td>\n",
              "      <td>Not Provided</td>\n",
              "      <td>0.00</td>\n",
              "      <td>0.00</td>\n",
              "      <td>2014</td>\n",
              "    </tr>\n",
              "    <tr>\n",
              "      <th>148653</th>\n",
              "      <td>Joe Lopez</td>\n",
              "      <td>Counselor, Log Cabin Ranch</td>\n",
              "      <td>0.00</td>\n",
              "      <td>0.00</td>\n",
              "      <td>-618.13</td>\n",
              "      <td>0.00</td>\n",
              "      <td>-618.13</td>\n",
              "      <td>-618.13</td>\n",
              "      <td>2014</td>\n",
              "    </tr>\n",
              "  </tbody>\n",
              "</table>\n",
              "<p>148654 rows × 9 columns</p>\n",
              "</div>\n",
              "      <button class=\"colab-df-convert\" onclick=\"convertToInteractive('df-77c74d59-f982-4272-8122-626640f96fc1')\"\n",
              "              title=\"Convert this dataframe to an interactive table.\"\n",
              "              style=\"display:none;\">\n",
              "        \n",
              "  <svg xmlns=\"http://www.w3.org/2000/svg\" height=\"24px\"viewBox=\"0 0 24 24\"\n",
              "       width=\"24px\">\n",
              "    <path d=\"M0 0h24v24H0V0z\" fill=\"none\"/>\n",
              "    <path d=\"M18.56 5.44l.94 2.06.94-2.06 2.06-.94-2.06-.94-.94-2.06-.94 2.06-2.06.94zm-11 1L8.5 8.5l.94-2.06 2.06-.94-2.06-.94L8.5 2.5l-.94 2.06-2.06.94zm10 10l.94 2.06.94-2.06 2.06-.94-2.06-.94-.94-2.06-.94 2.06-2.06.94z\"/><path d=\"M17.41 7.96l-1.37-1.37c-.4-.4-.92-.59-1.43-.59-.52 0-1.04.2-1.43.59L10.3 9.45l-7.72 7.72c-.78.78-.78 2.05 0 2.83L4 21.41c.39.39.9.59 1.41.59.51 0 1.02-.2 1.41-.59l7.78-7.78 2.81-2.81c.8-.78.8-2.07 0-2.86zM5.41 20L4 18.59l7.72-7.72 1.47 1.35L5.41 20z\"/>\n",
              "  </svg>\n",
              "      </button>\n",
              "      \n",
              "  <style>\n",
              "    .colab-df-container {\n",
              "      display:flex;\n",
              "      flex-wrap:wrap;\n",
              "      gap: 12px;\n",
              "    }\n",
              "\n",
              "    .colab-df-convert {\n",
              "      background-color: #E8F0FE;\n",
              "      border: none;\n",
              "      border-radius: 50%;\n",
              "      cursor: pointer;\n",
              "      display: none;\n",
              "      fill: #1967D2;\n",
              "      height: 32px;\n",
              "      padding: 0 0 0 0;\n",
              "      width: 32px;\n",
              "    }\n",
              "\n",
              "    .colab-df-convert:hover {\n",
              "      background-color: #E2EBFA;\n",
              "      box-shadow: 0px 1px 2px rgba(60, 64, 67, 0.3), 0px 1px 3px 1px rgba(60, 64, 67, 0.15);\n",
              "      fill: #174EA6;\n",
              "    }\n",
              "\n",
              "    [theme=dark] .colab-df-convert {\n",
              "      background-color: #3B4455;\n",
              "      fill: #D2E3FC;\n",
              "    }\n",
              "\n",
              "    [theme=dark] .colab-df-convert:hover {\n",
              "      background-color: #434B5C;\n",
              "      box-shadow: 0px 1px 3px 1px rgba(0, 0, 0, 0.15);\n",
              "      filter: drop-shadow(0px 1px 2px rgba(0, 0, 0, 0.3));\n",
              "      fill: #FFFFFF;\n",
              "    }\n",
              "  </style>\n",
              "\n",
              "      <script>\n",
              "        const buttonEl =\n",
              "          document.querySelector('#df-77c74d59-f982-4272-8122-626640f96fc1 button.colab-df-convert');\n",
              "        buttonEl.style.display =\n",
              "          google.colab.kernel.accessAllowed ? 'block' : 'none';\n",
              "\n",
              "        async function convertToInteractive(key) {\n",
              "          const element = document.querySelector('#df-77c74d59-f982-4272-8122-626640f96fc1');\n",
              "          const dataTable =\n",
              "            await google.colab.kernel.invokeFunction('convertToInteractive',\n",
              "                                                     [key], {});\n",
              "          if (!dataTable) return;\n",
              "\n",
              "          const docLinkHtml = 'Like what you see? Visit the ' +\n",
              "            '<a target=\"_blank\" href=https://colab.research.google.com/notebooks/data_table.ipynb>data table notebook</a>'\n",
              "            + ' to learn more about interactive tables.';\n",
              "          element.innerHTML = '';\n",
              "          dataTable['output_type'] = 'display_data';\n",
              "          await google.colab.output.renderOutput(dataTable, element);\n",
              "          const docLink = document.createElement('div');\n",
              "          docLink.innerHTML = docLinkHtml;\n",
              "          element.appendChild(docLink);\n",
              "        }\n",
              "      </script>\n",
              "    </div>\n",
              "  </div>\n",
              "  "
            ]
          },
          "metadata": {},
          "execution_count": 15
        }
      ]
    },
    {
      "cell_type": "code",
      "source": [
        "\n",
        "#Overall stats of our dataset\n",
        "data.describe(include='all')"
      ],
      "metadata": {
        "colab": {
          "base_uri": "https://localhost:8080/",
          "height": 476
        },
        "id": "b3glFlLgcxJO",
        "outputId": "e22eb3f4-a9db-46cf-a194-fe6781288a31"
      },
      "execution_count": null,
      "outputs": [
        {
          "output_type": "execute_result",
          "data": {
            "text/plain": [
              "                   Id EmployeeName          JobTitle   BasePay  OvertimePay  \\\n",
              "count   148654.000000       148654            148654  148049.0     148654.0   \n",
              "unique            NaN       110811              2159  109900.0      66555.0   \n",
              "top               NaN    Kevin Lee  Transit Operator       0.0          0.0   \n",
              "freq              NaN           13              7036     875.0      66103.0   \n",
              "mean     74327.500000          NaN               NaN       NaN          NaN   \n",
              "std      42912.857795          NaN               NaN       NaN          NaN   \n",
              "min          1.000000          NaN               NaN       NaN          NaN   \n",
              "25%      37164.250000          NaN               NaN       NaN          NaN   \n",
              "50%      74327.500000          NaN               NaN       NaN          NaN   \n",
              "75%     111490.750000          NaN               NaN       NaN          NaN   \n",
              "max     148654.000000          NaN               NaN       NaN          NaN   \n",
              "\n",
              "        OtherPay  Benefits       TotalPay  TotalPayBenefits           Year  \\\n",
              "count   148654.0  112495.0  148654.000000     148654.000000  148654.000000   \n",
              "unique   84968.0   99635.0            NaN               NaN            NaN   \n",
              "top          0.0       0.0            NaN               NaN            NaN   \n",
              "freq     35218.0    1053.0            NaN               NaN            NaN   \n",
              "mean         NaN       NaN   74768.321972      93692.554811    2012.522643   \n",
              "std          NaN       NaN   50517.005274      62793.533483       1.117538   \n",
              "min          NaN       NaN    -618.130000       -618.130000    2011.000000   \n",
              "25%          NaN       NaN   36168.995000      44065.650000    2012.000000   \n",
              "50%          NaN       NaN   71426.610000      92404.090000    2013.000000   \n",
              "75%          NaN       NaN  105839.135000     132876.450000    2014.000000   \n",
              "max          NaN       NaN  567595.430000     567595.430000    2014.000000   \n",
              "\n",
              "        Notes         Agency Status  \n",
              "count     0.0         148654  38119  \n",
              "unique    NaN              1      2  \n",
              "top       NaN  San Francisco     FT  \n",
              "freq      NaN         148654  22334  \n",
              "mean      NaN            NaN    NaN  \n",
              "std       NaN            NaN    NaN  \n",
              "min       NaN            NaN    NaN  \n",
              "25%       NaN            NaN    NaN  \n",
              "50%       NaN            NaN    NaN  \n",
              "75%       NaN            NaN    NaN  \n",
              "max       NaN            NaN    NaN  "
            ],
            "text/html": [
              "\n",
              "  <div id=\"df-0c69e0e6-c1f0-423f-8f10-6aedce59a385\">\n",
              "    <div class=\"colab-df-container\">\n",
              "      <div>\n",
              "<style scoped>\n",
              "    .dataframe tbody tr th:only-of-type {\n",
              "        vertical-align: middle;\n",
              "    }\n",
              "\n",
              "    .dataframe tbody tr th {\n",
              "        vertical-align: top;\n",
              "    }\n",
              "\n",
              "    .dataframe thead th {\n",
              "        text-align: right;\n",
              "    }\n",
              "</style>\n",
              "<table border=\"1\" class=\"dataframe\">\n",
              "  <thead>\n",
              "    <tr style=\"text-align: right;\">\n",
              "      <th></th>\n",
              "      <th>Id</th>\n",
              "      <th>EmployeeName</th>\n",
              "      <th>JobTitle</th>\n",
              "      <th>BasePay</th>\n",
              "      <th>OvertimePay</th>\n",
              "      <th>OtherPay</th>\n",
              "      <th>Benefits</th>\n",
              "      <th>TotalPay</th>\n",
              "      <th>TotalPayBenefits</th>\n",
              "      <th>Year</th>\n",
              "      <th>Notes</th>\n",
              "      <th>Agency</th>\n",
              "      <th>Status</th>\n",
              "    </tr>\n",
              "  </thead>\n",
              "  <tbody>\n",
              "    <tr>\n",
              "      <th>count</th>\n",
              "      <td>148654.000000</td>\n",
              "      <td>148654</td>\n",
              "      <td>148654</td>\n",
              "      <td>148049.0</td>\n",
              "      <td>148654.0</td>\n",
              "      <td>148654.0</td>\n",
              "      <td>112495.0</td>\n",
              "      <td>148654.000000</td>\n",
              "      <td>148654.000000</td>\n",
              "      <td>148654.000000</td>\n",
              "      <td>0.0</td>\n",
              "      <td>148654</td>\n",
              "      <td>38119</td>\n",
              "    </tr>\n",
              "    <tr>\n",
              "      <th>unique</th>\n",
              "      <td>NaN</td>\n",
              "      <td>110811</td>\n",
              "      <td>2159</td>\n",
              "      <td>109900.0</td>\n",
              "      <td>66555.0</td>\n",
              "      <td>84968.0</td>\n",
              "      <td>99635.0</td>\n",
              "      <td>NaN</td>\n",
              "      <td>NaN</td>\n",
              "      <td>NaN</td>\n",
              "      <td>NaN</td>\n",
              "      <td>1</td>\n",
              "      <td>2</td>\n",
              "    </tr>\n",
              "    <tr>\n",
              "      <th>top</th>\n",
              "      <td>NaN</td>\n",
              "      <td>Kevin Lee</td>\n",
              "      <td>Transit Operator</td>\n",
              "      <td>0.0</td>\n",
              "      <td>0.0</td>\n",
              "      <td>0.0</td>\n",
              "      <td>0.0</td>\n",
              "      <td>NaN</td>\n",
              "      <td>NaN</td>\n",
              "      <td>NaN</td>\n",
              "      <td>NaN</td>\n",
              "      <td>San Francisco</td>\n",
              "      <td>FT</td>\n",
              "    </tr>\n",
              "    <tr>\n",
              "      <th>freq</th>\n",
              "      <td>NaN</td>\n",
              "      <td>13</td>\n",
              "      <td>7036</td>\n",
              "      <td>875.0</td>\n",
              "      <td>66103.0</td>\n",
              "      <td>35218.0</td>\n",
              "      <td>1053.0</td>\n",
              "      <td>NaN</td>\n",
              "      <td>NaN</td>\n",
              "      <td>NaN</td>\n",
              "      <td>NaN</td>\n",
              "      <td>148654</td>\n",
              "      <td>22334</td>\n",
              "    </tr>\n",
              "    <tr>\n",
              "      <th>mean</th>\n",
              "      <td>74327.500000</td>\n",
              "      <td>NaN</td>\n",
              "      <td>NaN</td>\n",
              "      <td>NaN</td>\n",
              "      <td>NaN</td>\n",
              "      <td>NaN</td>\n",
              "      <td>NaN</td>\n",
              "      <td>74768.321972</td>\n",
              "      <td>93692.554811</td>\n",
              "      <td>2012.522643</td>\n",
              "      <td>NaN</td>\n",
              "      <td>NaN</td>\n",
              "      <td>NaN</td>\n",
              "    </tr>\n",
              "    <tr>\n",
              "      <th>std</th>\n",
              "      <td>42912.857795</td>\n",
              "      <td>NaN</td>\n",
              "      <td>NaN</td>\n",
              "      <td>NaN</td>\n",
              "      <td>NaN</td>\n",
              "      <td>NaN</td>\n",
              "      <td>NaN</td>\n",
              "      <td>50517.005274</td>\n",
              "      <td>62793.533483</td>\n",
              "      <td>1.117538</td>\n",
              "      <td>NaN</td>\n",
              "      <td>NaN</td>\n",
              "      <td>NaN</td>\n",
              "    </tr>\n",
              "    <tr>\n",
              "      <th>min</th>\n",
              "      <td>1.000000</td>\n",
              "      <td>NaN</td>\n",
              "      <td>NaN</td>\n",
              "      <td>NaN</td>\n",
              "      <td>NaN</td>\n",
              "      <td>NaN</td>\n",
              "      <td>NaN</td>\n",
              "      <td>-618.130000</td>\n",
              "      <td>-618.130000</td>\n",
              "      <td>2011.000000</td>\n",
              "      <td>NaN</td>\n",
              "      <td>NaN</td>\n",
              "      <td>NaN</td>\n",
              "    </tr>\n",
              "    <tr>\n",
              "      <th>25%</th>\n",
              "      <td>37164.250000</td>\n",
              "      <td>NaN</td>\n",
              "      <td>NaN</td>\n",
              "      <td>NaN</td>\n",
              "      <td>NaN</td>\n",
              "      <td>NaN</td>\n",
              "      <td>NaN</td>\n",
              "      <td>36168.995000</td>\n",
              "      <td>44065.650000</td>\n",
              "      <td>2012.000000</td>\n",
              "      <td>NaN</td>\n",
              "      <td>NaN</td>\n",
              "      <td>NaN</td>\n",
              "    </tr>\n",
              "    <tr>\n",
              "      <th>50%</th>\n",
              "      <td>74327.500000</td>\n",
              "      <td>NaN</td>\n",
              "      <td>NaN</td>\n",
              "      <td>NaN</td>\n",
              "      <td>NaN</td>\n",
              "      <td>NaN</td>\n",
              "      <td>NaN</td>\n",
              "      <td>71426.610000</td>\n",
              "      <td>92404.090000</td>\n",
              "      <td>2013.000000</td>\n",
              "      <td>NaN</td>\n",
              "      <td>NaN</td>\n",
              "      <td>NaN</td>\n",
              "    </tr>\n",
              "    <tr>\n",
              "      <th>75%</th>\n",
              "      <td>111490.750000</td>\n",
              "      <td>NaN</td>\n",
              "      <td>NaN</td>\n",
              "      <td>NaN</td>\n",
              "      <td>NaN</td>\n",
              "      <td>NaN</td>\n",
              "      <td>NaN</td>\n",
              "      <td>105839.135000</td>\n",
              "      <td>132876.450000</td>\n",
              "      <td>2014.000000</td>\n",
              "      <td>NaN</td>\n",
              "      <td>NaN</td>\n",
              "      <td>NaN</td>\n",
              "    </tr>\n",
              "    <tr>\n",
              "      <th>max</th>\n",
              "      <td>148654.000000</td>\n",
              "      <td>NaN</td>\n",
              "      <td>NaN</td>\n",
              "      <td>NaN</td>\n",
              "      <td>NaN</td>\n",
              "      <td>NaN</td>\n",
              "      <td>NaN</td>\n",
              "      <td>567595.430000</td>\n",
              "      <td>567595.430000</td>\n",
              "      <td>2014.000000</td>\n",
              "      <td>NaN</td>\n",
              "      <td>NaN</td>\n",
              "      <td>NaN</td>\n",
              "    </tr>\n",
              "  </tbody>\n",
              "</table>\n",
              "</div>\n",
              "      <button class=\"colab-df-convert\" onclick=\"convertToInteractive('df-0c69e0e6-c1f0-423f-8f10-6aedce59a385')\"\n",
              "              title=\"Convert this dataframe to an interactive table.\"\n",
              "              style=\"display:none;\">\n",
              "        \n",
              "  <svg xmlns=\"http://www.w3.org/2000/svg\" height=\"24px\"viewBox=\"0 0 24 24\"\n",
              "       width=\"24px\">\n",
              "    <path d=\"M0 0h24v24H0V0z\" fill=\"none\"/>\n",
              "    <path d=\"M18.56 5.44l.94 2.06.94-2.06 2.06-.94-2.06-.94-.94-2.06-.94 2.06-2.06.94zm-11 1L8.5 8.5l.94-2.06 2.06-.94-2.06-.94L8.5 2.5l-.94 2.06-2.06.94zm10 10l.94 2.06.94-2.06 2.06-.94-2.06-.94-.94-2.06-.94 2.06-2.06.94z\"/><path d=\"M17.41 7.96l-1.37-1.37c-.4-.4-.92-.59-1.43-.59-.52 0-1.04.2-1.43.59L10.3 9.45l-7.72 7.72c-.78.78-.78 2.05 0 2.83L4 21.41c.39.39.9.59 1.41.59.51 0 1.02-.2 1.41-.59l7.78-7.78 2.81-2.81c.8-.78.8-2.07 0-2.86zM5.41 20L4 18.59l7.72-7.72 1.47 1.35L5.41 20z\"/>\n",
              "  </svg>\n",
              "      </button>\n",
              "      \n",
              "  <style>\n",
              "    .colab-df-container {\n",
              "      display:flex;\n",
              "      flex-wrap:wrap;\n",
              "      gap: 12px;\n",
              "    }\n",
              "\n",
              "    .colab-df-convert {\n",
              "      background-color: #E8F0FE;\n",
              "      border: none;\n",
              "      border-radius: 50%;\n",
              "      cursor: pointer;\n",
              "      display: none;\n",
              "      fill: #1967D2;\n",
              "      height: 32px;\n",
              "      padding: 0 0 0 0;\n",
              "      width: 32px;\n",
              "    }\n",
              "\n",
              "    .colab-df-convert:hover {\n",
              "      background-color: #E2EBFA;\n",
              "      box-shadow: 0px 1px 2px rgba(60, 64, 67, 0.3), 0px 1px 3px 1px rgba(60, 64, 67, 0.15);\n",
              "      fill: #174EA6;\n",
              "    }\n",
              "\n",
              "    [theme=dark] .colab-df-convert {\n",
              "      background-color: #3B4455;\n",
              "      fill: #D2E3FC;\n",
              "    }\n",
              "\n",
              "    [theme=dark] .colab-df-convert:hover {\n",
              "      background-color: #434B5C;\n",
              "      box-shadow: 0px 1px 3px 1px rgba(0, 0, 0, 0.15);\n",
              "      filter: drop-shadow(0px 1px 2px rgba(0, 0, 0, 0.3));\n",
              "      fill: #FFFFFF;\n",
              "    }\n",
              "  </style>\n",
              "\n",
              "      <script>\n",
              "        const buttonEl =\n",
              "          document.querySelector('#df-0c69e0e6-c1f0-423f-8f10-6aedce59a385 button.colab-df-convert');\n",
              "        buttonEl.style.display =\n",
              "          google.colab.kernel.accessAllowed ? 'block' : 'none';\n",
              "\n",
              "        async function convertToInteractive(key) {\n",
              "          const element = document.querySelector('#df-0c69e0e6-c1f0-423f-8f10-6aedce59a385');\n",
              "          const dataTable =\n",
              "            await google.colab.kernel.invokeFunction('convertToInteractive',\n",
              "                                                     [key], {});\n",
              "          if (!dataTable) return;\n",
              "\n",
              "          const docLinkHtml = 'Like what you see? Visit the ' +\n",
              "            '<a target=\"_blank\" href=https://colab.research.google.com/notebooks/data_table.ipynb>data table notebook</a>'\n",
              "            + ' to learn more about interactive tables.';\n",
              "          element.innerHTML = '';\n",
              "          dataTable['output_type'] = 'display_data';\n",
              "          await google.colab.output.renderOutput(dataTable, element);\n",
              "          const docLink = document.createElement('div');\n",
              "          docLink.innerHTML = docLinkHtml;\n",
              "          element.appendChild(docLink);\n",
              "        }\n",
              "      </script>\n",
              "    </div>\n",
              "  </div>\n",
              "  "
            ]
          },
          "metadata": {},
          "execution_count": 20
        }
      ]
    },
    {
      "cell_type": "code",
      "source": [
        "#find occurance of the employee name\n",
        "data.columns"
      ],
      "metadata": {
        "colab": {
          "base_uri": "https://localhost:8080/"
        },
        "id": "_DuZorZycxMC",
        "outputId": "a97db481-0914-444a-b96d-b71c723612ec"
      },
      "execution_count": null,
      "outputs": [
        {
          "output_type": "execute_result",
          "data": {
            "text/plain": [
              "Index(['Id', 'EmployeeName', 'JobTitle', 'BasePay', 'OvertimePay', 'OtherPay',\n",
              "       'Benefits', 'TotalPay', 'TotalPayBenefits', 'Year', 'Notes', 'Agency',\n",
              "       'Status'],\n",
              "      dtype='object')"
            ]
          },
          "metadata": {},
          "execution_count": 22
        }
      ]
    },
    {
      "cell_type": "code",
      "source": [
        "data['EmployeeName'].value_counts().head()"
      ],
      "metadata": {
        "colab": {
          "base_uri": "https://localhost:8080/"
        },
        "id": "-6tB0ZSDcxOr",
        "outputId": "b80d3dc3-3c54-438b-d7f4-84edac7d278f"
      },
      "execution_count": null,
      "outputs": [
        {
          "output_type": "execute_result",
          "data": {
            "text/plain": [
              "Kevin Lee       13\n",
              "Richard Lee     11\n",
              "Steven Lee      11\n",
              "William Wong    11\n",
              "Stanley Lee      9\n",
              "Name: EmployeeName, dtype: int64"
            ]
          },
          "metadata": {},
          "execution_count": 24
        }
      ]
    },
    {
      "cell_type": "code",
      "source": [
        "#Find the no of unique job titles\n",
        "data.columns"
      ],
      "metadata": {
        "colab": {
          "base_uri": "https://localhost:8080/"
        },
        "id": "QtYRV_Spcxdg",
        "outputId": "f8a06d7c-70e9-4b9b-b024-59c1f324e50c"
      },
      "execution_count": null,
      "outputs": [
        {
          "output_type": "execute_result",
          "data": {
            "text/plain": [
              "Index(['Id', 'EmployeeName', 'JobTitle', 'BasePay', 'OvertimePay', 'OtherPay',\n",
              "       'Benefits', 'TotalPay', 'TotalPayBenefits', 'Year', 'Notes', 'Agency',\n",
              "       'Status'],\n",
              "      dtype='object')"
            ]
          },
          "metadata": {},
          "execution_count": 25
        }
      ]
    },
    {
      "cell_type": "code",
      "source": [
        "data['JobTitle'].nunique()"
      ],
      "metadata": {
        "colab": {
          "base_uri": "https://localhost:8080/"
        },
        "id": "ogEjvsrRfuC6",
        "outputId": "4a91cc10-7527-4094-a9be-c8c75a3c0ddb"
      },
      "execution_count": null,
      "outputs": [
        {
          "output_type": "execute_result",
          "data": {
            "text/plain": [
              "2159"
            ]
          },
          "metadata": {},
          "execution_count": 26
        }
      ]
    },
    {
      "cell_type": "code",
      "source": [
        "#Total no of job titles contains captain\n",
        "data['JobTitle'].str.contains('CAPTAIN')"
      ],
      "metadata": {
        "colab": {
          "base_uri": "https://localhost:8080/"
        },
        "id": "HBSPL4I4fuLK",
        "outputId": "3b1ed5ce-872a-4935-fdbe-e1e45894a063"
      },
      "execution_count": null,
      "outputs": [
        {
          "output_type": "execute_result",
          "data": {
            "text/plain": [
              "0         False\n",
              "1          True\n",
              "2          True\n",
              "3         False\n",
              "4         False\n",
              "          ...  \n",
              "148649    False\n",
              "148650    False\n",
              "148651    False\n",
              "148652    False\n",
              "148653    False\n",
              "Name: JobTitle, Length: 148654, dtype: bool"
            ]
          },
          "metadata": {},
          "execution_count": 27
        }
      ]
    },
    {
      "cell_type": "code",
      "source": [
        "data[data['JobTitle'].str.contains('CAPTAIN')]"
      ],
      "metadata": {
        "colab": {
          "base_uri": "https://localhost:8080/",
          "height": 815
        },
        "id": "n2ywc1PKhQM7",
        "outputId": "df630094-2d60-46a9-c353-4010b3a1786e"
      },
      "execution_count": null,
      "outputs": [
        {
          "output_type": "execute_result",
          "data": {
            "text/plain": [
              "          Id      EmployeeName                               JobTitle  \\\n",
              "1          2      GARY JIMENEZ        CAPTAIN III (POLICE DEPARTMENT)   \n",
              "2          3    ALBERT PARDINI        CAPTAIN III (POLICE DEPARTMENT)   \n",
              "11        12  PATRICIA JACKSON        CAPTAIN III (POLICE DEPARTMENT)   \n",
              "17        18    SEBASTIAN WONG  CAPTAIN, EMERGENCYCY MEDICAL SERVICES   \n",
              "22        23     GEORGE GARCIA              CAPTAIN, FIRE SUPPRESSION   \n",
              "...      ...               ...                                    ...   \n",
              "8684    8685     JEANNE SEYLER              CAPTAIN, FIRE SUPPRESSION   \n",
              "10485  10486        JANE SMITH  CAPTAIN, EMERGENCYCY MEDICAL SERVICES   \n",
              "11198  11199     KATHRYN BROWN        CAPTAIN III (POLICE DEPARTMENT)   \n",
              "31297  31298   MARCO CARNIGLIA  CAPTAIN, EMERGENCYCY MEDICAL SERVICES   \n",
              "34124  34125     JOHN FORBES-3              CAPTAIN, FIRE SUPPRESSION   \n",
              "\n",
              "         BasePay OvertimePay   OtherPay Benefits   TotalPay  TotalPayBenefits  \\\n",
              "1      155966.02   245131.88  137811.38      NaN  538909.28         538909.28   \n",
              "2      212739.13   106088.18    16452.6      NaN  335279.91         335279.91   \n",
              "11       99722.0    87082.62   110804.3      NaN  297608.92         297608.92   \n",
              "17     140546.87   119397.26   18625.08      NaN  278569.21         278569.21   \n",
              "22     140546.88    93200.58   39955.25      NaN  273702.71         273702.71   \n",
              "...          ...         ...        ...      ...        ...               ...   \n",
              "8684    95055.34         0.0    9197.14      NaN  104252.48         104252.48   \n",
              "10485    74592.0     1538.59   18804.68      NaN   94935.27          94935.27   \n",
              "11198    10684.5         0.0   81244.87      NaN   91929.37          91929.37   \n",
              "31297    9839.72         0.0    1203.77      NaN   11043.49          11043.49   \n",
              "34124        0.0      982.06    2277.34      NaN    3259.40           3259.40   \n",
              "\n",
              "       Year  Notes         Agency Status  \n",
              "1      2011    NaN  San Francisco    NaN  \n",
              "2      2011    NaN  San Francisco    NaN  \n",
              "11     2011    NaN  San Francisco    NaN  \n",
              "17     2011    NaN  San Francisco    NaN  \n",
              "22     2011    NaN  San Francisco    NaN  \n",
              "...     ...    ...            ...    ...  \n",
              "8684   2011    NaN  San Francisco    NaN  \n",
              "10485  2011    NaN  San Francisco    NaN  \n",
              "11198  2011    NaN  San Francisco    NaN  \n",
              "31297  2011    NaN  San Francisco    NaN  \n",
              "34124  2011    NaN  San Francisco    NaN  \n",
              "\n",
              "[141 rows x 13 columns]"
            ],
            "text/html": [
              "\n",
              "  <div id=\"df-0419d39d-f990-4e70-a72f-714a0478f49c\">\n",
              "    <div class=\"colab-df-container\">\n",
              "      <div>\n",
              "<style scoped>\n",
              "    .dataframe tbody tr th:only-of-type {\n",
              "        vertical-align: middle;\n",
              "    }\n",
              "\n",
              "    .dataframe tbody tr th {\n",
              "        vertical-align: top;\n",
              "    }\n",
              "\n",
              "    .dataframe thead th {\n",
              "        text-align: right;\n",
              "    }\n",
              "</style>\n",
              "<table border=\"1\" class=\"dataframe\">\n",
              "  <thead>\n",
              "    <tr style=\"text-align: right;\">\n",
              "      <th></th>\n",
              "      <th>Id</th>\n",
              "      <th>EmployeeName</th>\n",
              "      <th>JobTitle</th>\n",
              "      <th>BasePay</th>\n",
              "      <th>OvertimePay</th>\n",
              "      <th>OtherPay</th>\n",
              "      <th>Benefits</th>\n",
              "      <th>TotalPay</th>\n",
              "      <th>TotalPayBenefits</th>\n",
              "      <th>Year</th>\n",
              "      <th>Notes</th>\n",
              "      <th>Agency</th>\n",
              "      <th>Status</th>\n",
              "    </tr>\n",
              "  </thead>\n",
              "  <tbody>\n",
              "    <tr>\n",
              "      <th>1</th>\n",
              "      <td>2</td>\n",
              "      <td>GARY JIMENEZ</td>\n",
              "      <td>CAPTAIN III (POLICE DEPARTMENT)</td>\n",
              "      <td>155966.02</td>\n",
              "      <td>245131.88</td>\n",
              "      <td>137811.38</td>\n",
              "      <td>NaN</td>\n",
              "      <td>538909.28</td>\n",
              "      <td>538909.28</td>\n",
              "      <td>2011</td>\n",
              "      <td>NaN</td>\n",
              "      <td>San Francisco</td>\n",
              "      <td>NaN</td>\n",
              "    </tr>\n",
              "    <tr>\n",
              "      <th>2</th>\n",
              "      <td>3</td>\n",
              "      <td>ALBERT PARDINI</td>\n",
              "      <td>CAPTAIN III (POLICE DEPARTMENT)</td>\n",
              "      <td>212739.13</td>\n",
              "      <td>106088.18</td>\n",
              "      <td>16452.6</td>\n",
              "      <td>NaN</td>\n",
              "      <td>335279.91</td>\n",
              "      <td>335279.91</td>\n",
              "      <td>2011</td>\n",
              "      <td>NaN</td>\n",
              "      <td>San Francisco</td>\n",
              "      <td>NaN</td>\n",
              "    </tr>\n",
              "    <tr>\n",
              "      <th>11</th>\n",
              "      <td>12</td>\n",
              "      <td>PATRICIA JACKSON</td>\n",
              "      <td>CAPTAIN III (POLICE DEPARTMENT)</td>\n",
              "      <td>99722.0</td>\n",
              "      <td>87082.62</td>\n",
              "      <td>110804.3</td>\n",
              "      <td>NaN</td>\n",
              "      <td>297608.92</td>\n",
              "      <td>297608.92</td>\n",
              "      <td>2011</td>\n",
              "      <td>NaN</td>\n",
              "      <td>San Francisco</td>\n",
              "      <td>NaN</td>\n",
              "    </tr>\n",
              "    <tr>\n",
              "      <th>17</th>\n",
              "      <td>18</td>\n",
              "      <td>SEBASTIAN WONG</td>\n",
              "      <td>CAPTAIN, EMERGENCYCY MEDICAL SERVICES</td>\n",
              "      <td>140546.87</td>\n",
              "      <td>119397.26</td>\n",
              "      <td>18625.08</td>\n",
              "      <td>NaN</td>\n",
              "      <td>278569.21</td>\n",
              "      <td>278569.21</td>\n",
              "      <td>2011</td>\n",
              "      <td>NaN</td>\n",
              "      <td>San Francisco</td>\n",
              "      <td>NaN</td>\n",
              "    </tr>\n",
              "    <tr>\n",
              "      <th>22</th>\n",
              "      <td>23</td>\n",
              "      <td>GEORGE GARCIA</td>\n",
              "      <td>CAPTAIN, FIRE SUPPRESSION</td>\n",
              "      <td>140546.88</td>\n",
              "      <td>93200.58</td>\n",
              "      <td>39955.25</td>\n",
              "      <td>NaN</td>\n",
              "      <td>273702.71</td>\n",
              "      <td>273702.71</td>\n",
              "      <td>2011</td>\n",
              "      <td>NaN</td>\n",
              "      <td>San Francisco</td>\n",
              "      <td>NaN</td>\n",
              "    </tr>\n",
              "    <tr>\n",
              "      <th>...</th>\n",
              "      <td>...</td>\n",
              "      <td>...</td>\n",
              "      <td>...</td>\n",
              "      <td>...</td>\n",
              "      <td>...</td>\n",
              "      <td>...</td>\n",
              "      <td>...</td>\n",
              "      <td>...</td>\n",
              "      <td>...</td>\n",
              "      <td>...</td>\n",
              "      <td>...</td>\n",
              "      <td>...</td>\n",
              "      <td>...</td>\n",
              "    </tr>\n",
              "    <tr>\n",
              "      <th>8684</th>\n",
              "      <td>8685</td>\n",
              "      <td>JEANNE SEYLER</td>\n",
              "      <td>CAPTAIN, FIRE SUPPRESSION</td>\n",
              "      <td>95055.34</td>\n",
              "      <td>0.0</td>\n",
              "      <td>9197.14</td>\n",
              "      <td>NaN</td>\n",
              "      <td>104252.48</td>\n",
              "      <td>104252.48</td>\n",
              "      <td>2011</td>\n",
              "      <td>NaN</td>\n",
              "      <td>San Francisco</td>\n",
              "      <td>NaN</td>\n",
              "    </tr>\n",
              "    <tr>\n",
              "      <th>10485</th>\n",
              "      <td>10486</td>\n",
              "      <td>JANE SMITH</td>\n",
              "      <td>CAPTAIN, EMERGENCYCY MEDICAL SERVICES</td>\n",
              "      <td>74592.0</td>\n",
              "      <td>1538.59</td>\n",
              "      <td>18804.68</td>\n",
              "      <td>NaN</td>\n",
              "      <td>94935.27</td>\n",
              "      <td>94935.27</td>\n",
              "      <td>2011</td>\n",
              "      <td>NaN</td>\n",
              "      <td>San Francisco</td>\n",
              "      <td>NaN</td>\n",
              "    </tr>\n",
              "    <tr>\n",
              "      <th>11198</th>\n",
              "      <td>11199</td>\n",
              "      <td>KATHRYN BROWN</td>\n",
              "      <td>CAPTAIN III (POLICE DEPARTMENT)</td>\n",
              "      <td>10684.5</td>\n",
              "      <td>0.0</td>\n",
              "      <td>81244.87</td>\n",
              "      <td>NaN</td>\n",
              "      <td>91929.37</td>\n",
              "      <td>91929.37</td>\n",
              "      <td>2011</td>\n",
              "      <td>NaN</td>\n",
              "      <td>San Francisco</td>\n",
              "      <td>NaN</td>\n",
              "    </tr>\n",
              "    <tr>\n",
              "      <th>31297</th>\n",
              "      <td>31298</td>\n",
              "      <td>MARCO CARNIGLIA</td>\n",
              "      <td>CAPTAIN, EMERGENCYCY MEDICAL SERVICES</td>\n",
              "      <td>9839.72</td>\n",
              "      <td>0.0</td>\n",
              "      <td>1203.77</td>\n",
              "      <td>NaN</td>\n",
              "      <td>11043.49</td>\n",
              "      <td>11043.49</td>\n",
              "      <td>2011</td>\n",
              "      <td>NaN</td>\n",
              "      <td>San Francisco</td>\n",
              "      <td>NaN</td>\n",
              "    </tr>\n",
              "    <tr>\n",
              "      <th>34124</th>\n",
              "      <td>34125</td>\n",
              "      <td>JOHN FORBES-3</td>\n",
              "      <td>CAPTAIN, FIRE SUPPRESSION</td>\n",
              "      <td>0.0</td>\n",
              "      <td>982.06</td>\n",
              "      <td>2277.34</td>\n",
              "      <td>NaN</td>\n",
              "      <td>3259.40</td>\n",
              "      <td>3259.40</td>\n",
              "      <td>2011</td>\n",
              "      <td>NaN</td>\n",
              "      <td>San Francisco</td>\n",
              "      <td>NaN</td>\n",
              "    </tr>\n",
              "  </tbody>\n",
              "</table>\n",
              "<p>141 rows × 13 columns</p>\n",
              "</div>\n",
              "      <button class=\"colab-df-convert\" onclick=\"convertToInteractive('df-0419d39d-f990-4e70-a72f-714a0478f49c')\"\n",
              "              title=\"Convert this dataframe to an interactive table.\"\n",
              "              style=\"display:none;\">\n",
              "        \n",
              "  <svg xmlns=\"http://www.w3.org/2000/svg\" height=\"24px\"viewBox=\"0 0 24 24\"\n",
              "       width=\"24px\">\n",
              "    <path d=\"M0 0h24v24H0V0z\" fill=\"none\"/>\n",
              "    <path d=\"M18.56 5.44l.94 2.06.94-2.06 2.06-.94-2.06-.94-.94-2.06-.94 2.06-2.06.94zm-11 1L8.5 8.5l.94-2.06 2.06-.94-2.06-.94L8.5 2.5l-.94 2.06-2.06.94zm10 10l.94 2.06.94-2.06 2.06-.94-2.06-.94-.94-2.06-.94 2.06-2.06.94z\"/><path d=\"M17.41 7.96l-1.37-1.37c-.4-.4-.92-.59-1.43-.59-.52 0-1.04.2-1.43.59L10.3 9.45l-7.72 7.72c-.78.78-.78 2.05 0 2.83L4 21.41c.39.39.9.59 1.41.59.51 0 1.02-.2 1.41-.59l7.78-7.78 2.81-2.81c.8-.78.8-2.07 0-2.86zM5.41 20L4 18.59l7.72-7.72 1.47 1.35L5.41 20z\"/>\n",
              "  </svg>\n",
              "      </button>\n",
              "      \n",
              "  <style>\n",
              "    .colab-df-container {\n",
              "      display:flex;\n",
              "      flex-wrap:wrap;\n",
              "      gap: 12px;\n",
              "    }\n",
              "\n",
              "    .colab-df-convert {\n",
              "      background-color: #E8F0FE;\n",
              "      border: none;\n",
              "      border-radius: 50%;\n",
              "      cursor: pointer;\n",
              "      display: none;\n",
              "      fill: #1967D2;\n",
              "      height: 32px;\n",
              "      padding: 0 0 0 0;\n",
              "      width: 32px;\n",
              "    }\n",
              "\n",
              "    .colab-df-convert:hover {\n",
              "      background-color: #E2EBFA;\n",
              "      box-shadow: 0px 1px 2px rgba(60, 64, 67, 0.3), 0px 1px 3px 1px rgba(60, 64, 67, 0.15);\n",
              "      fill: #174EA6;\n",
              "    }\n",
              "\n",
              "    [theme=dark] .colab-df-convert {\n",
              "      background-color: #3B4455;\n",
              "      fill: #D2E3FC;\n",
              "    }\n",
              "\n",
              "    [theme=dark] .colab-df-convert:hover {\n",
              "      background-color: #434B5C;\n",
              "      box-shadow: 0px 1px 3px 1px rgba(0, 0, 0, 0.15);\n",
              "      filter: drop-shadow(0px 1px 2px rgba(0, 0, 0, 0.3));\n",
              "      fill: #FFFFFF;\n",
              "    }\n",
              "  </style>\n",
              "\n",
              "      <script>\n",
              "        const buttonEl =\n",
              "          document.querySelector('#df-0419d39d-f990-4e70-a72f-714a0478f49c button.colab-df-convert');\n",
              "        buttonEl.style.display =\n",
              "          google.colab.kernel.accessAllowed ? 'block' : 'none';\n",
              "\n",
              "        async function convertToInteractive(key) {\n",
              "          const element = document.querySelector('#df-0419d39d-f990-4e70-a72f-714a0478f49c');\n",
              "          const dataTable =\n",
              "            await google.colab.kernel.invokeFunction('convertToInteractive',\n",
              "                                                     [key], {});\n",
              "          if (!dataTable) return;\n",
              "\n",
              "          const docLinkHtml = 'Like what you see? Visit the ' +\n",
              "            '<a target=\"_blank\" href=https://colab.research.google.com/notebooks/data_table.ipynb>data table notebook</a>'\n",
              "            + ' to learn more about interactive tables.';\n",
              "          element.innerHTML = '';\n",
              "          dataTable['output_type'] = 'display_data';\n",
              "          await google.colab.output.renderOutput(dataTable, element);\n",
              "          const docLink = document.createElement('div');\n",
              "          docLink.innerHTML = docLinkHtml;\n",
              "          element.appendChild(docLink);\n",
              "        }\n",
              "      </script>\n",
              "    </div>\n",
              "  </div>\n",
              "  "
            ]
          },
          "metadata": {},
          "execution_count": 28
        }
      ]
    },
    {
      "cell_type": "code",
      "source": [
        "len(data[data['JobTitle'].str.contains('CAPTAIN')])"
      ],
      "metadata": {
        "colab": {
          "base_uri": "https://localhost:8080/"
        },
        "id": "AXfAdvb3hQQL",
        "outputId": "6a6006d0-2fa1-40b6-d13f-d49fb22e927b"
      },
      "execution_count": null,
      "outputs": [
        {
          "output_type": "execute_result",
          "data": {
            "text/plain": [
              "141"
            ]
          },
          "metadata": {},
          "execution_count": 29
        }
      ]
    },
    {
      "cell_type": "code",
      "source": [
        "data[data['JobTitle'].str.contains('CAPTAIN')].count()"
      ],
      "metadata": {
        "colab": {
          "base_uri": "https://localhost:8080/"
        },
        "id": "m9lIGKyshQUW",
        "outputId": "1ff568db-a6d8-4453-d947-511b0719bf9d"
      },
      "execution_count": null,
      "outputs": [
        {
          "output_type": "execute_result",
          "data": {
            "text/plain": [
              "Id                  141\n",
              "EmployeeName        141\n",
              "JobTitle            141\n",
              "BasePay             141\n",
              "OvertimePay         141\n",
              "OtherPay            141\n",
              "Benefits              0\n",
              "TotalPay            141\n",
              "TotalPayBenefits    141\n",
              "Year                141\n",
              "Notes                 0\n",
              "Agency              141\n",
              "Status                0\n",
              "dtype: int64"
            ]
          },
          "metadata": {},
          "execution_count": 31
        }
      ]
    },
    {
      "cell_type": "code",
      "source": [
        "len(data[data['JobTitle'].str.contains('CAPTAIN',case=False)])"
      ],
      "metadata": {
        "colab": {
          "base_uri": "https://localhost:8080/"
        },
        "id": "vU98vZzKhQXl",
        "outputId": "15d0471b-d169-4dfd-9446-9ad7f4a2665e"
      },
      "execution_count": null,
      "outputs": [
        {
          "output_type": "execute_result",
          "data": {
            "text/plain": [
              "552"
            ]
          },
          "metadata": {},
          "execution_count": 32
        }
      ]
    },
    {
      "cell_type": "code",
      "source": [
        "data[data['JobTitle'].str.contains('CAPTAIN',case=False)].count()"
      ],
      "metadata": {
        "colab": {
          "base_uri": "https://localhost:8080/"
        },
        "id": "kvnd4jzXhQa8",
        "outputId": "02975996-6b9c-46e0-8b14-8becd3d67410"
      },
      "execution_count": null,
      "outputs": [
        {
          "output_type": "execute_result",
          "data": {
            "text/plain": [
              "Id                  552\n",
              "EmployeeName        552\n",
              "JobTitle            552\n",
              "BasePay             551\n",
              "OvertimePay         552\n",
              "OtherPay            552\n",
              "Benefits            411\n",
              "TotalPay            552\n",
              "TotalPayBenefits    552\n",
              "Year                552\n",
              "Notes                 0\n",
              "Agency              552\n",
              "Status              141\n",
              "dtype: int64"
            ]
          },
          "metadata": {},
          "execution_count": 33
        }
      ]
    },
    {
      "cell_type": "code",
      "source": [
        "#Display all employee names from fire departments\n",
        "data.columns"
      ],
      "metadata": {
        "colab": {
          "base_uri": "https://localhost:8080/"
        },
        "id": "45r3jS6nirvU",
        "outputId": "aed23523-f8f7-4209-95e6-2ee83369faf8"
      },
      "execution_count": null,
      "outputs": [
        {
          "output_type": "execute_result",
          "data": {
            "text/plain": [
              "Index(['Id', 'EmployeeName', 'JobTitle', 'BasePay', 'OvertimePay', 'OtherPay',\n",
              "       'Benefits', 'TotalPay', 'TotalPayBenefits', 'Year', 'Notes', 'Agency',\n",
              "       'Status'],\n",
              "      dtype='object')"
            ]
          },
          "metadata": {},
          "execution_count": 34
        }
      ]
    },
    {
      "cell_type": "code",
      "source": [
        "data['JobTitle'].str.contains('fire',case=False)"
      ],
      "metadata": {
        "colab": {
          "base_uri": "https://localhost:8080/"
        },
        "id": "Vv64sjDuirx6",
        "outputId": "d48cc6aa-372d-4729-cf6c-6e5ac4ba1f2e"
      },
      "execution_count": null,
      "outputs": [
        {
          "output_type": "execute_result",
          "data": {
            "text/plain": [
              "0         False\n",
              "1         False\n",
              "2         False\n",
              "3         False\n",
              "4          True\n",
              "          ...  \n",
              "148649    False\n",
              "148650    False\n",
              "148651    False\n",
              "148652    False\n",
              "148653    False\n",
              "Name: JobTitle, Length: 148654, dtype: bool"
            ]
          },
          "metadata": {},
          "execution_count": 35
        }
      ]
    },
    {
      "cell_type": "code",
      "source": [
        "data[data['JobTitle'].str.contains('fire',case=False)]['EmployeeName']"
      ],
      "metadata": {
        "colab": {
          "base_uri": "https://localhost:8080/"
        },
        "id": "elcwV983ir3d",
        "outputId": "3baccf24-9f79-43db-f3c7-0e9d9beff351"
      },
      "execution_count": null,
      "outputs": [
        {
          "output_type": "execute_result",
          "data": {
            "text/plain": [
              "4            PATRICK GARDNER\n",
              "6                  ALSON LEE\n",
              "8             MICHAEL MORRIS\n",
              "9         JOANNE HAYES-WHITE\n",
              "10             ARTHUR KENNEY\n",
              "                 ...        \n",
              "145956      Kenneth C Farris\n",
              "147556         Edward A Dunn\n",
              "148021        Kari A Johnson\n",
              "148209          Sheryl K Lee\n",
              "148554       Lawrence F Gatt\n",
              "Name: EmployeeName, Length: 5879, dtype: object"
            ]
          },
          "metadata": {},
          "execution_count": 37
        }
      ]
    },
    {
      "cell_type": "code",
      "source": [
        "#Find minimum, maximum and avg base pay\n",
        "data.columns"
      ],
      "metadata": {
        "colab": {
          "base_uri": "https://localhost:8080/"
        },
        "id": "n6ABm_B3ir6Q",
        "outputId": "74b5325e-72ff-4740-9172-b59ebdc598f2"
      },
      "execution_count": null,
      "outputs": [
        {
          "output_type": "execute_result",
          "data": {
            "text/plain": [
              "Index(['Id', 'EmployeeName', 'JobTitle', 'BasePay', 'OvertimePay', 'OtherPay',\n",
              "       'Benefits', 'TotalPay', 'TotalPayBenefits', 'Year', 'Notes', 'Agency',\n",
              "       'Status'],\n",
              "      dtype='object')"
            ]
          },
          "metadata": {},
          "execution_count": 38
        }
      ]
    },
    {
      "cell_type": "code",
      "source": [
        "data['BasePay'].describe()"
      ],
      "metadata": {
        "colab": {
          "base_uri": "https://localhost:8080/"
        },
        "id": "IJRHSp7lir9F",
        "outputId": "78c5fd28-e5bf-4876-f19e-9a7df486309a"
      },
      "execution_count": null,
      "outputs": [
        {
          "output_type": "execute_result",
          "data": {
            "text/plain": [
              "count     148049.0\n",
              "unique    109900.0\n",
              "top            0.0\n",
              "freq         875.0\n",
              "Name: BasePay, dtype: float64"
            ]
          },
          "metadata": {},
          "execution_count": 49
        }
      ]
    },
    {
      "cell_type": "code",
      "source": [
        "data['BasePay'].describe()"
      ],
      "metadata": {
        "colab": {
          "base_uri": "https://localhost:8080/"
        },
        "id": "rinjYdvKkjHj",
        "outputId": "95d11d85-55a4-4fa3-b91a-144c800468c3"
      },
      "execution_count": null,
      "outputs": [
        {
          "output_type": "execute_result",
          "data": {
            "text/plain": [
              "count     148049.0\n",
              "unique    109900.0\n",
              "top            0.0\n",
              "freq         875.0\n",
              "Name: BasePay, dtype: float64"
            ]
          },
          "metadata": {},
          "execution_count": 55
        }
      ]
    },
    {
      "cell_type": "code",
      "source": [
        "#Replace 'Not Provided'in employee name to NaN\n",
        "data.columns"
      ],
      "metadata": {
        "colab": {
          "base_uri": "https://localhost:8080/"
        },
        "id": "xWxFwpnTkjKi",
        "outputId": "41662dfd-68aa-4ec0-e8ef-27cf96b4c7a2"
      },
      "execution_count": null,
      "outputs": [
        {
          "output_type": "execute_result",
          "data": {
            "text/plain": [
              "Index(['Id', 'EmployeeName', 'JobTitle', 'BasePay', 'OvertimePay', 'OtherPay',\n",
              "       'Benefits', 'TotalPay', 'TotalPayBenefits', 'Year', 'Notes', 'Agency',\n",
              "       'Status'],\n",
              "      dtype='object')"
            ]
          },
          "metadata": {},
          "execution_count": 56
        }
      ]
    },
    {
      "cell_type": "code",
      "source": [
        "data['EmployeeName']"
      ],
      "metadata": {
        "colab": {
          "base_uri": "https://localhost:8080/"
        },
        "id": "8_Yjmj-akjOu",
        "outputId": "e2198325-5638-4a7b-c845-0fad020a7d41"
      },
      "execution_count": null,
      "outputs": [
        {
          "output_type": "execute_result",
          "data": {
            "text/plain": [
              "0            NATHANIEL FORD\n",
              "1              GARY JIMENEZ\n",
              "2            ALBERT PARDINI\n",
              "3         CHRISTOPHER CHONG\n",
              "4           PATRICK GARDNER\n",
              "                ...        \n",
              "148649        Roy I Tillery\n",
              "148650         Not provided\n",
              "148651         Not provided\n",
              "148652         Not provided\n",
              "148653            Joe Lopez\n",
              "Name: EmployeeName, Length: 148654, dtype: object"
            ]
          },
          "metadata": {},
          "execution_count": 57
        }
      ]
    },
    {
      "cell_type": "code",
      "source": [
        "import numpy as np\n"
      ],
      "metadata": {
        "id": "9dZtXoDCmtvl"
      },
      "execution_count": null,
      "outputs": []
    },
    {
      "cell_type": "code",
      "source": [
        "data['EmployeeName'].replace('Not provided',np.nan)"
      ],
      "metadata": {
        "colab": {
          "base_uri": "https://localhost:8080/"
        },
        "id": "Tr8A8LfumtyL",
        "outputId": "9b346e06-6ab7-4ab2-a3ec-9482b803cf10"
      },
      "execution_count": null,
      "outputs": [
        {
          "output_type": "execute_result",
          "data": {
            "text/plain": [
              "0            NATHANIEL FORD\n",
              "1              GARY JIMENEZ\n",
              "2            ALBERT PARDINI\n",
              "3         CHRISTOPHER CHONG\n",
              "4           PATRICK GARDNER\n",
              "                ...        \n",
              "148649        Roy I Tillery\n",
              "148650                  NaN\n",
              "148651                  NaN\n",
              "148652                  NaN\n",
              "148653            Joe Lopez\n",
              "Name: EmployeeName, Length: 148654, dtype: object"
            ]
          },
          "metadata": {},
          "execution_count": 60
        }
      ]
    },
    {
      "cell_type": "code",
      "source": [
        "data['EmployeeName']=data['EmployeeName'].replace('Not provided',np.nan)"
      ],
      "metadata": {
        "id": "t6Oa9AKUmt1h"
      },
      "execution_count": null,
      "outputs": []
    },
    {
      "cell_type": "code",
      "source": [
        "#drop the rows having 5 missing values\n",
        "data.drop(data[data.isnull().sum(axis=1)==5].index,axis=0,inplace=True)"
      ],
      "metadata": {
        "id": "2jJ_1g83n0pd"
      },
      "execution_count": null,
      "outputs": []
    },
    {
      "cell_type": "code",
      "source": [
        "data.isnull().sum(axis=1)"
      ],
      "metadata": {
        "colab": {
          "base_uri": "https://localhost:8080/"
        },
        "id": "alSSyEmrn0sd",
        "outputId": "58f48446-2720-4a29-adaa-482556aa7d09"
      },
      "execution_count": null,
      "outputs": [
        {
          "output_type": "execute_result",
          "data": {
            "text/plain": [
              "0         3\n",
              "1         3\n",
              "2         3\n",
              "3         3\n",
              "4         3\n",
              "         ..\n",
              "148649    1\n",
              "148650    3\n",
              "148651    3\n",
              "148652    3\n",
              "148653    1\n",
              "Length: 148654, dtype: int64"
            ]
          },
          "metadata": {},
          "execution_count": 69
        }
      ]
    },
    {
      "cell_type": "code",
      "source": [
        "#find job title Albert Pardini\n",
        "data[data['EmployeeName']=='ALBERT PARDINI']['JobTitle']"
      ],
      "metadata": {
        "colab": {
          "base_uri": "https://localhost:8080/"
        },
        "id": "aFWnGnLan0v3",
        "outputId": "126db0b2-ed0f-4177-d003-86fd9251f182"
      },
      "execution_count": null,
      "outputs": [
        {
          "output_type": "execute_result",
          "data": {
            "text/plain": [
              "2    CAPTAIN III (POLICE DEPARTMENT)\n",
              "Name: JobTitle, dtype: object"
            ]
          },
          "metadata": {},
          "execution_count": 71
        }
      ]
    },
    {
      "cell_type": "code",
      "source": [
        "#hOW MUCH aLBERT pARDINI make include benefits\n",
        "data[data['EmployeeName']=='ALBERT PARDINI']['TotalPayBenefits']"
      ],
      "metadata": {
        "colab": {
          "base_uri": "https://localhost:8080/"
        },
        "id": "QJ0cIoGNn05v",
        "outputId": "d4b27703-7378-46a0-dd33-8bf5752cdcea"
      },
      "execution_count": null,
      "outputs": [
        {
          "output_type": "execute_result",
          "data": {
            "text/plain": [
              "2    335279.91\n",
              "Name: TotalPayBenefits, dtype: float64"
            ]
          },
          "metadata": {},
          "execution_count": 72
        }
      ]
    },
    {
      "cell_type": "code",
      "source": [
        "#Display name of the person having highest BasePay\n",
        "data['BasePay'].max()"
      ],
      "metadata": {
        "id": "Mql3ZeIpu5q5"
      },
      "execution_count": null,
      "outputs": []
    },
    {
      "cell_type": "code",
      "source": [
        "#Find top 5 most common jobs\n",
        "data['JobTitle'].value_counts()"
      ],
      "metadata": {
        "colab": {
          "base_uri": "https://localhost:8080/"
        },
        "id": "_wrwYmgNu5zt",
        "outputId": "d971403d-8b6f-4e32-e5cc-982b30843c3f"
      },
      "execution_count": null,
      "outputs": [
        {
          "output_type": "execute_result",
          "data": {
            "text/plain": [
              "Transit Operator                                  7036\n",
              "Special Nurse                                     4389\n",
              "Registered Nurse                                  3736\n",
              "Public Svc Aide-Public Works                      2518\n",
              "Police Officer 3                                  2421\n",
              "                                                  ... \n",
              "CHIEF HOUSING INSPECTOR                              1\n",
              "TRAFFIC SIGNAL OPERATOR                              1\n",
              "COURT COMPUTER FACILITIES COORDINATOR                1\n",
              "AUTOMOTIVE BODY AND FENDER WORKER SUPERVISOR I       1\n",
              "VICTIM & WITNESS TECHNICIAN                          1\n",
              "Name: JobTitle, Length: 2159, dtype: int64"
            ]
          },
          "metadata": {},
          "execution_count": 74
        }
      ]
    }
  ]
}